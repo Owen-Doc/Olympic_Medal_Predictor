{
 "cells": [
  {
   "cell_type": "code",
   "execution_count": 1,
   "metadata": {},
   "outputs": [],
   "source": [
    "# Dependencies\n",
    "\n",
    "# Import Splinter\n",
    "from splinter import Browser\n",
    "# Import BeautifulSoup\n",
    "from bs4 import BeautifulSoup as soup\n",
    "\n",
    "import requests\n",
    "import os\n",
    "import pandas as pd\n",
    "from pandas import DataFrame\n",
    "import re\n",
    "\n",
    "from webdriver_manager.chrome import ChromeDriverManager"
   ]
  },
  {
   "cell_type": "code",
   "execution_count": 55,
   "metadata": {},
   "outputs": [],
   "source": [
    "# Python code to convert string to list\n",
    "  \n",
    "def Convert(string):\n",
    "    li = list(string.split(\"<td>\"))\n",
    "    return li"
   ]
  },
  {
   "cell_type": "code",
   "execution_count": 2,
   "metadata": {},
   "outputs": [
    {
     "name": "stderr",
     "output_type": "stream",
     "text": [
      "\n",
      "\n",
      "====== WebDriver manager ======\n",
      "Current google-chrome version is 91.0.4472\n",
      "Get LATEST driver version for 91.0.4472\n",
      "Driver [C:\\Users\\paul\\.wdm\\drivers\\chromedriver\\win32\\91.0.4472.101\\chromedriver.exe] found in cache\n"
     ]
    }
   ],
   "source": [
    "executable_path = {'executable_path': ChromeDriverManager().install()}\n",
    "browser = Browser('chrome', **executable_path, headless=False)"
   ]
  },
  {
   "cell_type": "code",
   "execution_count": 3,
   "metadata": {},
   "outputs": [],
   "source": [
    "# Function to remove tags\n",
    "def remove_tags(html):\n",
    "  \n",
    "    # parse html content\n",
    "    soup = BeautifulSoup(html, \"html.parser\")\n",
    "  \n",
    "    for data in soup(['style', 'script']):\n",
    "        # Remove tags\n",
    "        data.decompose()\n",
    "  \n",
    "    # return data by retrieving the tag content\n",
    "    return ' '.join(soup.stripped_strings)"
   ]
  },
  {
   "cell_type": "code",
   "execution_count": 4,
   "metadata": {},
   "outputs": [],
   "source": [
    "## base_url\n",
    "url = 'https://www.olympedia.org/athletes/93860'\n",
    "\n",
    "## site statistics\n",
    "site_statistics = 'https://www.olympedia.org/statistics/olympedia'"
   ]
  },
  {
   "cell_type": "code",
   "execution_count": 5,
   "metadata": {},
   "outputs": [
    {
     "data": {
      "text/plain": [
       "True"
      ]
     },
     "execution_count": 5,
     "metadata": {},
     "output_type": "execute_result"
    }
   ],
   "source": [
    "browser.visit(url)\n",
    "# Optional delay for loading the page\n",
    "browser.is_element_present_by_css('table.biodata', wait_time=1)"
   ]
  },
  {
   "cell_type": "code",
   "execution_count": 6,
   "metadata": {},
   "outputs": [],
   "source": [
    "html = browser.html\n",
    "news_soup = soup(html, 'html.parser')"
   ]
  },
  {
   "cell_type": "code",
   "execution_count": 7,
   "metadata": {},
   "outputs": [
    {
     "data": {
      "text/plain": [
       "['Type',\n",
       " 'Sex',\n",
       " 'Full name',\n",
       " 'Used name',\n",
       " 'Nick/petnames',\n",
       " 'Born',\n",
       " 'Measurements',\n",
       " 'Affiliations',\n",
       " 'NOC']"
      ]
     },
     "execution_count": 7,
     "metadata": {},
     "output_type": "execute_result"
    }
   ],
   "source": [
    "biodata = news_soup.select_one('table.biodata')\n",
    "bio_column = biodata.findChildren(['th'])\n",
    "bio_column = [str(i).replace( r\"<th>\", '').replace( r\"</th>\", '') for i in bio_column]\n",
    "#bio_column = [str(i).replace( r\"</th>\", '') for i in bio_column]\n",
    "bio_column"
   ]
  },
  {
   "cell_type": "code",
   "execution_count": 8,
   "metadata": {
    "scrolled": true
   },
   "outputs": [],
   "source": [
    "#biodate = news_soup.select_one('table.biodata')\n",
    "#biodate_columns=DataFrame(biodate.findChildren(['th']))\n",
    "#biodate_columns"
   ]
  },
  {
   "cell_type": "code",
   "execution_count": 9,
   "metadata": {},
   "outputs": [
    {
     "data": {
      "text/plain": [
       "['Competed in Olympic Games',\n",
       " 'Male',\n",
       " 'Michael Fred Phelps, II',\n",
       " 'Michael Phelps',\n",
       " 'The Baltimore Bullet',\n",
       " '30 June 1985 in <a href=\"/place_names/4423\">Baltimore, Maryland (USA)</a>',\n",
       " '193 cm / 91 kg',\n",
       " '<a href=\"/affiliations/6636\">NBAC, Baltimore (USA)</a> / <a href=\"/affiliations/3411\">Michigan Wolverines, Ann Arbor (USA)</a>',\n",
       " '<img src=\"/images/flags/USA.png\" style=\"padding-right: 2px; vertical-align: middle\"/> <a href=\"/countries/USA\">United States</a>']"
      ]
     },
     "execution_count": 9,
     "metadata": {},
     "output_type": "execute_result"
    }
   ],
   "source": [
    "#biodate.findChildren(['td'])#.replace('\\<\\/*td\\>','',regex=True)\n",
    "bio_data = biodata.findChildren(['td'])\n",
    "bio_data = [str(i).replace( r'<td>', '') for i in bio_data]\n",
    "bio_data = [str(i).replace( r'</td>', '') for i in bio_data]\n",
    "bio_data = [str(i).replace( r'•', ' ') for i in bio_data]\n",
    "\n",
    "#bio_data = [str(i).replace( r'<a href=\"/affiliations/', '') for i in bio_data]\n",
    "#bio_data = [str(i).replace( r'<img src=\"/images/flags/', '') for i in bio_data]\n",
    "#bio_data = [str(i).replace( r'\">.+</a>', '') for i in bio_data]\n",
    "#bio_data = [str(i).replace( r'.png.+', '') for i in bio_data]\n",
    "bio_data"
   ]
  },
  {
   "cell_type": "code",
   "execution_count": 10,
   "metadata": {},
   "outputs": [
    {
     "name": "stderr",
     "output_type": "stream",
     "text": [
      "D:\\ProgramData\\Anaconda3\\envs\\CUVIRTDATA2021\\lib\\site-packages\\pandas\\core\\internals\\construction.py:309: VisibleDeprecationWarning: Creating an ndarray from ragged nested sequences (which is a list-or-tuple of lists-or-tuples-or ndarrays with different lengths or shapes) is deprecated. If you meant to do this, you must specify 'dtype=object' when creating the ndarray.\n",
      "  values = np.array([convert(v) for v in values])\n"
     ]
    },
    {
     "data": {
      "text/html": [
       "<div>\n",
       "<style scoped>\n",
       "    .dataframe tbody tr th:only-of-type {\n",
       "        vertical-align: middle;\n",
       "    }\n",
       "\n",
       "    .dataframe tbody tr th {\n",
       "        vertical-align: top;\n",
       "    }\n",
       "\n",
       "    .dataframe thead th {\n",
       "        text-align: right;\n",
       "    }\n",
       "</style>\n",
       "<table border=\"1\" class=\"dataframe\">\n",
       "  <thead>\n",
       "    <tr style=\"text-align: right;\">\n",
       "      <th></th>\n",
       "      <th>0</th>\n",
       "    </tr>\n",
       "  </thead>\n",
       "  <tbody>\n",
       "    <tr>\n",
       "      <th>0</th>\n",
       "      <td>[Competed in Olympic Games]</td>\n",
       "    </tr>\n",
       "    <tr>\n",
       "      <th>1</th>\n",
       "      <td>[Male]</td>\n",
       "    </tr>\n",
       "    <tr>\n",
       "      <th>2</th>\n",
       "      <td>[Michael Fred•Phelps, II]</td>\n",
       "    </tr>\n",
       "    <tr>\n",
       "      <th>3</th>\n",
       "      <td>[Michael•Phelps]</td>\n",
       "    </tr>\n",
       "    <tr>\n",
       "      <th>4</th>\n",
       "      <td>[The Baltimore Bullet]</td>\n",
       "    </tr>\n",
       "    <tr>\n",
       "      <th>5</th>\n",
       "      <td>[30 June 1985 in , [Baltimore, Maryland (USA)]]</td>\n",
       "    </tr>\n",
       "    <tr>\n",
       "      <th>6</th>\n",
       "      <td>[193 cm / 91 kg]</td>\n",
       "    </tr>\n",
       "    <tr>\n",
       "      <th>7</th>\n",
       "      <td>[[NBAC, Baltimore (USA)],  / , [Michigan Wolve...</td>\n",
       "    </tr>\n",
       "    <tr>\n",
       "      <th>8</th>\n",
       "      <td>[[],  , [United States]]</td>\n",
       "    </tr>\n",
       "  </tbody>\n",
       "</table>\n",
       "</div>"
      ],
      "text/plain": [
       "                                                   0\n",
       "0                        [Competed in Olympic Games]\n",
       "1                                             [Male]\n",
       "2                          [Michael Fred•Phelps, II]\n",
       "3                                   [Michael•Phelps]\n",
       "4                             [The Baltimore Bullet]\n",
       "5    [30 June 1985 in , [Baltimore, Maryland (USA)]]\n",
       "6                                   [193 cm / 91 kg]\n",
       "7  [[NBAC, Baltimore (USA)],  / , [Michigan Wolve...\n",
       "8                           [[],  , [United States]]"
      ]
     },
     "execution_count": 10,
     "metadata": {},
     "output_type": "execute_result"
    }
   ],
   "source": [
    "biodata_values=DataFrame(biodata.findChildren(['td']))\n",
    "biodata_values\n"
   ]
  },
  {
   "cell_type": "code",
   "execution_count": 11,
   "metadata": {},
   "outputs": [
    {
     "data": {
      "text/html": [
       "<div>\n",
       "<style scoped>\n",
       "    .dataframe tbody tr th:only-of-type {\n",
       "        vertical-align: middle;\n",
       "    }\n",
       "\n",
       "    .dataframe tbody tr th {\n",
       "        vertical-align: top;\n",
       "    }\n",
       "\n",
       "    .dataframe thead th {\n",
       "        text-align: right;\n",
       "    }\n",
       "</style>\n",
       "<table border=\"1\" class=\"dataframe\">\n",
       "  <thead>\n",
       "    <tr style=\"text-align: right;\">\n",
       "      <th></th>\n",
       "      <th>Type</th>\n",
       "      <th>Sex</th>\n",
       "      <th>Full name</th>\n",
       "      <th>Used name</th>\n",
       "      <th>Nick/petnames</th>\n",
       "      <th>Born</th>\n",
       "      <th>Measurements</th>\n",
       "      <th>Affiliations</th>\n",
       "      <th>NOC</th>\n",
       "    </tr>\n",
       "  </thead>\n",
       "  <tbody>\n",
       "    <tr>\n",
       "      <th>0</th>\n",
       "      <td>Competed in Olympic Games</td>\n",
       "      <td>Male</td>\n",
       "      <td>Michael Fred Phelps, II</td>\n",
       "      <td>Michael Phelps</td>\n",
       "      <td>The Baltimore Bullet</td>\n",
       "      <td>30 June 1985 in &lt;a href=\"/place_names/4423\"&gt;Ba...</td>\n",
       "      <td>193 cm / 91 kg</td>\n",
       "      <td>&lt;a href=\"/affiliations/6636\"&gt;NBAC, Baltimore (...</td>\n",
       "      <td>&lt;img src=\"/images/flags/USA.png\" style=\"paddin...</td>\n",
       "    </tr>\n",
       "  </tbody>\n",
       "</table>\n",
       "</div>"
      ],
      "text/plain": [
       "                        Type   Sex                Full name       Used name  \\\n",
       "0  Competed in Olympic Games  Male  Michael Fred Phelps, II  Michael Phelps   \n",
       "\n",
       "          Nick/petnames                                               Born  \\\n",
       "0  The Baltimore Bullet  30 June 1985 in <a href=\"/place_names/4423\">Ba...   \n",
       "\n",
       "     Measurements                                       Affiliations  \\\n",
       "0  193 cm / 91 kg  <a href=\"/affiliations/6636\">NBAC, Baltimore (...   \n",
       "\n",
       "                                                 NOC  \n",
       "0  <img src=\"/images/flags/USA.png\" style=\"paddin...  "
      ]
     },
     "execution_count": 11,
     "metadata": {},
     "output_type": "execute_result"
    }
   ],
   "source": [
    "df = pd.DataFrame(columns=bio_column)\n",
    "a_series = pd.Series(bio_data, index = df.columns)\n",
    "df = df.append(a_series, ignore_index=True)\n",
    "df"
   ]
  },
  {
   "cell_type": "code",
   "execution_count": 18,
   "metadata": {},
   "outputs": [
    {
     "data": {
      "text/plain": [
       "['Games', 'Discipline (Sport) / Event', 'NOC / Team', 'Pos', 'Medal', 'As', '']"
      ]
     },
     "execution_count": 18,
     "metadata": {},
     "output_type": "execute_result"
    }
   ],
   "source": [
    "bioResults_column = news_soup.select_one('table.table')\n",
    "bioResults_column = bioResults_column.findChildren(['th'])\n",
    "bioResults_column = [str(i).replace( r\"<th>\", '').replace( r\"</th>\", '')  for i in bioResults_column]\n",
    "bioResults_column"
   ]
  },
  {
   "cell_type": "code",
   "execution_count": 28,
   "metadata": {},
   "outputs": [
    {
     "data": {
      "text/plain": [
       "7"
      ]
     },
     "execution_count": 28,
     "metadata": {},
     "output_type": "execute_result"
    }
   ],
   "source": [
    "len(bioResults_column)"
   ]
  },
  {
   "cell_type": "code",
   "execution_count": 46,
   "metadata": {},
   "outputs": [
    {
     "data": {
      "text/plain": [
       "36"
      ]
     },
     "execution_count": 46,
     "metadata": {},
     "output_type": "execute_result"
    }
   ],
   "source": [
    "bioResults_data = news_soup.select_one('table.table')\n",
    "bioResults_data = bioResults_data.findAll(['tr'])\n",
    "len(bioResults_data)"
   ]
  },
  {
   "cell_type": "code",
   "execution_count": 61,
   "metadata": {},
   "outputs": [
    {
     "data": {
      "text/plain": [
       "['<tr class=\"active\"><td><a href=\"/editions/25\">2000 Summer Olympics</a><td><a href=\"/sports/SWI\">Swimming</a> (<a href=\"/sport_groups/AQ\">Aquatics</a>)<td><a href=\"/countries/USA\"><img src=\"/images/flags/USA.png\" style=\"padding-right: 2px; vertical-align: middle\"/>USA</a><td><td><td>Michael Phelps<td>',\n",
       " '<td><td><a href=\"/results/8466\">200 metres Butterfly, Men</a><small>(Olympic)</small><td><td>5<td><td><td>',\n",
       " '<tr class=\"active\"><td><a href=\"/editions/26\">2004 Summer Olympics</a><td><a href=\"/sports/SWI\">Swimming</a> (<a href=\"/sport_groups/AQ\">Aquatics</a>)<td><a href=\"/countries/USA\"><img src=\"/images/flags/USA.png\" style=\"padding-right: 2px; vertical-align: middle\"/>USA</a><td><td><td>Michael Phelps<td>',\n",
       " '<td><td><a href=\"/results/8772\">200 metres Freestyle, Men</a><small>(Olympic)</small><td><td>3<td><span class=\"Bronze\">Bronze</span><td><td>',\n",
       " '<td><td><a href=\"/results/8898\">4 × 100 metres Freestyle Relay, Men</a><small>(Olympic)</small><td>United States<td>3<td><span class=\"Bronze\">Bronze</span><td><td>',\n",
       " '<td><td><a href=\"/results/8912\">4 × 200 metres Freestyle Relay, Men</a><small>(Olympic)</small><td>United States<td>1<td><span class=\"Gold\">Gold</span><td><td>',\n",
       " '<td><td><a href=\"/results/8852\">100 metres Butterfly, Men</a><small>(Olympic)</small><td><td>1<td><span class=\"Gold\">Gold</span><td><td>',\n",
       " '<td><td><a href=\"/results/8866\">200 metres Butterfly, Men</a><small>(Olympic)</small><td><td>1<td><span class=\"Gold\">Gold</span><td><td>',\n",
       " '<td><td><a href=\"/results/8877\">200 metres Individual Medley, Men</a><small>(Olympic)</small><td><td>1<td><span class=\"Gold\">Gold</span><td><td>',\n",
       " '<td><td><a href=\"/results/8890\">400 metres Individual Medley, Men</a><small>(Olympic)</small><td><td>1<td><span class=\"Gold\">Gold</span><td><td>',\n",
       " '<td><td><a href=\"/results/8926\">4 × 100 metres Medley Relay, Men</a><small>(Olympic)</small><td>United States<td>1<td><span class=\"Gold\">Gold</span><td><td>',\n",
       " '<tr class=\"active\"><td><a href=\"/editions/53\">2008 Summer Olympics</a><td><a href=\"/sports/SWI\">Swimming</a> (<a href=\"/sport_groups/AQ\">Aquatics</a>)<td><a href=\"/countries/USA\"><img src=\"/images/flags/USA.png\" style=\"padding-right: 2px; vertical-align: middle\"/>USA</a><td><td><td>Michael Phelps<td>',\n",
       " '<td><td><a href=\"/results/261502\">200 metres Freestyle, Men</a><small>(Olympic)</small><td><td>1<td><span class=\"Gold\">Gold</span><td><td>',\n",
       " '<td><td><a href=\"/results/261632\">4 × 100 metres Freestyle Relay, Men</a><small>(Olympic)</small><td>United States<td>1<td><span class=\"Gold\">Gold</span><td><td>',\n",
       " '<td><td><a href=\"/results/261646\">4 × 200 metres Freestyle Relay, Men</a><small>(Olympic)</small><td>United States<td>1<td><span class=\"Gold\">Gold</span><td><td>',\n",
       " '<td><td><a href=\"/results/261586\">100 metres Butterfly, Men</a><small>(Olympic)</small><td><td>1<td><span class=\"Gold\">Gold</span><td><td>',\n",
       " '<td><td><a href=\"/results/261601\">200 metres Butterfly, Men</a><small>(Olympic)</small><td><td>1<td><span class=\"Gold\">Gold</span><td><td>',\n",
       " '<td><td><a href=\"/results/261613\">200 metres Individual Medley, Men</a><small>(Olympic)</small><td><td>1<td><span class=\"Gold\">Gold</span><td><td>',\n",
       " '<td><td><a href=\"/results/261625\">400 metres Individual Medley, Men</a><small>(Olympic)</small><td><td>1<td><span class=\"Gold\">Gold</span><td><td>',\n",
       " '<td><td><a href=\"/results/261660\">4 × 100 metres Medley Relay, Men</a><small>(Olympic)</small><td>United States<td>1<td><span class=\"Gold\">Gold</span><td><td>',\n",
       " '<tr class=\"active\"><td><a href=\"/editions/54\">2012 Summer Olympics</a><td><a href=\"/sports/SWI\">Swimming</a> (<a href=\"/sport_groups/AQ\">Aquatics</a>)<td><a href=\"/countries/USA\"><img src=\"/images/flags/USA.png\" style=\"padding-right: 2px; vertical-align: middle\"/>USA</a><td><td><td>Michael Phelps<td>',\n",
       " '<td><td><a href=\"/results/322069\">4 × 100 metres Freestyle Relay, Men</a><small>(Olympic)</small><td>United States<td>2<td><span class=\"Silver\">Silver</span><td><td>',\n",
       " '<td><td><a href=\"/results/322165\">4 × 200 metres Freestyle Relay, Men</a><small>(Olympic)</small><td>United States<td>1<td><span class=\"Gold\">Gold</span><td><td>',\n",
       " '<td><td><a href=\"/results/322289\">100 metres Butterfly, Men</a><small>(Olympic)</small><td><td>1<td><span class=\"Gold\">Gold</span><td><td>',\n",
       " '<td><td><a href=\"/results/322143\">200 metres Butterfly, Men</a><small>(Olympic)</small><td><td>2<td><span class=\"Silver\">Silver</span><td><td>',\n",
       " '<td><td><a href=\"/results/322251\">200 metres Individual Medley, Men</a><small>(Olympic)</small><td><td>1<td><span class=\"Gold\">Gold</span><td><td>',\n",
       " '<td><td><a href=\"/results/322007\">400 metres Individual Medley, Men</a><small>(Olympic)</small><td><td>4<td><td><td>',\n",
       " '<td><td><a href=\"/results/322344\">4 × 100 metres Medley Relay, Men</a><small>(Olympic)</small><td>United States<td>1<td><span class=\"Gold\">Gold</span><td><td>',\n",
       " '<tr class=\"active\"><td><a href=\"/editions/59\">2016 Summer Olympics</a><td><a href=\"/sports/SWI\">Swimming</a> (<a href=\"/sport_groups/AQ\">Aquatics</a>)<td><a href=\"/countries/USA\"><img src=\"/images/flags/USA.png\" style=\"padding-right: 2px; vertical-align: middle\"/>USA</a><td><td><td>Michael Phelps<td>',\n",
       " '<td><td><a href=\"/results/357127\">4 × 100 metres Freestyle Relay, Men</a><small>(Olympic)</small><td>United States<td>1<td><span class=\"Gold\">Gold</span><td><td>',\n",
       " '<td><td><a href=\"/results/357141\">4 × 200 metres Freestyle Relay, Men</a><small>(Olympic)</small><td>United States<td>1<td><span class=\"Gold\">Gold</span><td><td>',\n",
       " '<td><td><a href=\"/results/357088\">100 metres Butterfly, Men</a><small>(Olympic)</small><td><td>=2<td><span class=\"Silver\">Silver</span><td><td>',\n",
       " '<td><td><a href=\"/results/357100\">200 metres Butterfly, Men</a><small>(Olympic)</small><td><td>1<td><span class=\"Gold\">Gold</span><td><td>',\n",
       " '<td><td><a href=\"/results/357110\">200 metres Individual Medley, Men</a><small>(Olympic)</small><td><td>1<td><span class=\"Gold\">Gold</span><td><td>',\n",
       " '<td><td><a href=\"/results/357155\">4 × 100 metres Medley Relay, Men</a><small>(Olympic)</small><td>United States<td>1<td><span class=\"Gold\">Gold</span><td><td>']"
      ]
     },
     "execution_count": 61,
     "metadata": {},
     "output_type": "execute_result"
    }
   ],
   "source": [
    "bioResults_data = news_soup.select_one('table.table')\n",
    "bioResults_data = bioResults_data.findAll(['tr'])[1:]\n",
    "bioResults_data = [str(i).replace( '\\n', '').\n",
    "                   replace( r\"<tr>\", '').replace( r\"</tr>\", '').\n",
    "                   replace( r\"</td>\", '')\n",
    "                   for i in bioResults_data]\n",
    "bioResults_data"
   ]
  },
  {
   "cell_type": "code",
   "execution_count": 64,
   "metadata": {},
   "outputs": [
    {
     "name": "stdout",
     "output_type": "stream",
     "text": [
      "['<tr class=\"active\">', '<a href=\"/editions/25\">2000 Summer Olympics</a>', '<a href=\"/sports/SWI\">Swimming</a> (<a href=\"/sport_groups/AQ\">Aquatics</a>)', '<a href=\"/countries/USA\"><img src=\"/images/flags/USA.png\" style=\"padding-right: 2px; vertical-align: middle\"/>USA</a>', '', '', 'Michael Phelps', '']\n",
      "['<tr class=\"active\">', '<a href=\"/editions/26\">2004 Summer Olympics</a>', '<a href=\"/sports/SWI\">Swimming</a> (<a href=\"/sport_groups/AQ\">Aquatics</a>)', '<a href=\"/countries/USA\"><img src=\"/images/flags/USA.png\" style=\"padding-right: 2px; vertical-align: middle\"/>USA</a>', '', '', 'Michael Phelps', '']\n",
      "['<tr class=\"active\">', '<a href=\"/editions/53\">2008 Summer Olympics</a>', '<a href=\"/sports/SWI\">Swimming</a> (<a href=\"/sport_groups/AQ\">Aquatics</a>)', '<a href=\"/countries/USA\"><img src=\"/images/flags/USA.png\" style=\"padding-right: 2px; vertical-align: middle\"/>USA</a>', '', '', 'Michael Phelps', '']\n",
      "['<tr class=\"active\">', '<a href=\"/editions/54\">2012 Summer Olympics</a>', '<a href=\"/sports/SWI\">Swimming</a> (<a href=\"/sport_groups/AQ\">Aquatics</a>)', '<a href=\"/countries/USA\"><img src=\"/images/flags/USA.png\" style=\"padding-right: 2px; vertical-align: middle\"/>USA</a>', '', '', 'Michael Phelps', '']\n",
      "['<tr class=\"active\">', '<a href=\"/editions/59\">2016 Summer Olympics</a>', '<a href=\"/sports/SWI\">Swimming</a> (<a href=\"/sport_groups/AQ\">Aquatics</a>)', '<a href=\"/countries/USA\"><img src=\"/images/flags/USA.png\" style=\"padding-right: 2px; vertical-align: middle\"/>USA</a>', '', '', 'Michael Phelps', '']\n"
     ]
    }
   ],
   "source": [
    "for x in bioResults_data:\n",
    "    #set active class as prefix\n",
    "    #set rest as dataframe insert\n",
    "  if x.startswith('<tr class=\"active\">'):\n",
    "    print(Convert(x))\n",
    "#  print(\"\\n\")"
   ]
  },
  {
   "cell_type": "code",
   "execution_count": 45,
   "metadata": {},
   "outputs": [
    {
     "data": {
      "text/plain": [
       "36"
      ]
     },
     "execution_count": 45,
     "metadata": {},
     "output_type": "execute_result"
    }
   ],
   "source": []
  },
  {
   "cell_type": "code",
   "execution_count": null,
   "metadata": {},
   "outputs": [],
   "source": []
  },
  {
   "cell_type": "code",
   "execution_count": null,
   "metadata": {},
   "outputs": [],
   "source": []
  },
  {
   "cell_type": "code",
   "execution_count": 20,
   "metadata": {},
   "outputs": [],
   "source": [
    "browser.quit()"
   ]
  },
  {
   "cell_type": "code",
   "execution_count": null,
   "metadata": {},
   "outputs": [],
   "source": []
  }
 ],
 "metadata": {
  "kernelspec": {
   "display_name": "PythonData",
   "language": "python",
   "name": "pythondata"
  },
  "language_info": {
   "codemirror_mode": {
    "name": "ipython",
    "version": 3
   },
   "file_extension": ".py",
   "mimetype": "text/x-python",
   "name": "python",
   "nbconvert_exporter": "python",
   "pygments_lexer": "ipython3",
   "version": "3.9.5"
  },
  "varInspector": {
   "cols": {
    "lenName": 16,
    "lenType": 16,
    "lenVar": 40
   },
   "kernels_config": {
    "python": {
     "delete_cmd_postfix": "",
     "delete_cmd_prefix": "del ",
     "library": "var_list.py",
     "varRefreshCmd": "print(var_dic_list())"
    },
    "r": {
     "delete_cmd_postfix": ") ",
     "delete_cmd_prefix": "rm(",
     "library": "var_list.r",
     "varRefreshCmd": "cat(var_dic_list()) "
    }
   },
   "types_to_exclude": [
    "module",
    "function",
    "builtin_function_or_method",
    "instance",
    "_Feature"
   ],
   "window_display": false
  }
 },
 "nbformat": 4,
 "nbformat_minor": 2
}
