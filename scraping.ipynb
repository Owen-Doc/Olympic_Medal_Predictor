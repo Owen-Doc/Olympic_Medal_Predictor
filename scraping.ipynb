{
 "cells": [
  {
   "cell_type": "code",
   "execution_count": null,
   "id": "837274b7",
   "metadata": {},
   "outputs": [],
   "source": [
    "# Preliminary webscraping with BS4 and Splinter"
   ]
  },
  {
   "cell_type": "code",
   "execution_count": 1,
   "id": "25ce88d3",
   "metadata": {},
   "outputs": [],
   "source": [
    "# Import dependencies\n",
    "import pandas as pd\n",
    "from splinter import Browser\n",
    "from bs4 import BeautifulSoup as soup\n",
    "from webdriver_manager.chrome import ChromeDriverManager"
   ]
  },
  {
   "cell_type": "code",
   "execution_count": 2,
   "id": "c5047bf0",
   "metadata": {},
   "outputs": [
    {
     "name": "stderr",
     "output_type": "stream",
     "text": [
      "[WDM] - ====== WebDriver manager ======\n",
      "[WDM] - Current google-chrome version is 91.0.4472\n",
      "[WDM] - Get LATEST driver version for 91.0.4472\n"
     ]
    },
    {
     "name": "stdout",
     "output_type": "stream",
     "text": [
      "\n",
      "\n"
     ]
    },
    {
     "name": "stderr",
     "output_type": "stream",
     "text": [
      "[WDM] - Driver [/Users/owendougherty/.wdm/drivers/chromedriver/mac64/91.0.4472.101/chromedriver] found in cache\n"
     ]
    }
   ],
   "source": [
    "# Set up Splinter \n",
    "executable_path = {'executable_path': ChromeDriverManager().install()}\n",
    "browser = Browser('chrome', **executable_path, headless=False)"
   ]
  },
  {
   "cell_type": "code",
   "execution_count": 6,
   "id": "a6689559",
   "metadata": {},
   "outputs": [],
   "source": [
    "# Visit the Olympedia site to scrape for one athletes data\n",
    "url = 'https://www.olympedia.org/athletes/66108'\n",
    "browser.visit(url)"
   ]
  },
  {
   "cell_type": "code",
   "execution_count": 7,
   "id": "b0f90a7d",
   "metadata": {},
   "outputs": [],
   "source": [
    "# Parse the HTML\n",
    "html = browser.html\n",
    "html_soup = soup(html, 'html.parser')"
   ]
  },
  {
   "cell_type": "code",
   "execution_count": 9,
   "id": "677f6d98",
   "metadata": {},
   "outputs": [
    {
     "data": {
      "text/plain": [
       "'\\nBen Johnson\\n\\n'"
      ]
     },
     "execution_count": 9,
     "metadata": {},
     "output_type": "execute_result"
    }
   ],
   "source": [
    "# Scrape the name (testing soup)\n",
    "name = html_soup.find('h1').text\n",
    "name"
   ]
  },
  {
   "cell_type": "code",
   "execution_count": 24,
   "id": "1e007365",
   "metadata": {},
   "outputs": [
    {
     "data": {
      "text/plain": [
       "<table class=\"biodata\">\n",
       "<tbody><tr><th>Type</th><td>Competed in Olympic Games</td></tr>\n",
       "<tr><th>Sex</th><td>Male</td></tr>\n",
       "<tr><th>Full name</th><td>Benjamin Sinclair \"Ben\"•Johnson, Jr.</td></tr>\n",
       "<tr><th>Used name</th><td>Ben•Johnson</td></tr>\n",
       "<tr><th>Born</th><td>30 December 1961 in <a href=\"/place_names/2678\">Falmouth (JAM)</a></td></tr>\n",
       "<tr><th>Measurements</th><td>177 cm / 75 kg</td></tr>\n",
       "<tr><th>Affiliations</th><td>York Optimists/Toronto/Mazda Optimists Track Club</td></tr>\n",
       "<tr><th>NOC</th><td><img src=\"/images/flags/CAN.png\" style=\"padding-right: 2px; vertical-align: middle\"/> <a href=\"/countries/CAN\">Canada</a></td></tr>\n",
       "</tbody></table>"
      ]
     },
     "execution_count": 24,
     "metadata": {},
     "output_type": "execute_result"
    }
   ],
   "source": [
    "# Scrape the medals data\n",
    "bio_data = html_soup.find('table', class_='biodata')\n",
    "bio_data"
   ]
  },
  {
   "cell_type": "code",
   "execution_count": 44,
   "id": "f048ed59",
   "metadata": {},
   "outputs": [
    {
     "data": {
      "text/plain": [
       "[<tr><th>Type</th><td>Competed in Olympic Games</td></tr>,\n",
       " <tr><th>Sex</th><td>Male</td></tr>,\n",
       " <tr><th>Full name</th><td>Benjamin Sinclair \"Ben\"•Johnson, Jr.</td></tr>,\n",
       " <tr><th>Used name</th><td>Ben•Johnson</td></tr>,\n",
       " <tr><th>Born</th><td>30 December 1961 in <a href=\"/place_names/2678\">Falmouth (JAM)</a></td></tr>,\n",
       " <tr><th>Measurements</th><td>177 cm / 75 kg</td></tr>,\n",
       " <tr><th>Affiliations</th><td>York Optimists/Toronto/Mazda Optimists Track Club</td></tr>,\n",
       " <tr><th>NOC</th><td><img src=\"/images/flags/CAN.png\" style=\"padding-right: 2px; vertical-align: middle\"/> <a href=\"/countries/CAN\">Canada</a></td></tr>]"
      ]
     },
     "execution_count": 44,
     "metadata": {},
     "output_type": "execute_result"
    }
   ],
   "source": [
    "bio_data.tbody.find_all('tr')"
   ]
  },
  {
   "cell_type": "markdown",
   "id": "200ef876",
   "metadata": {},
   "source": [
    "# Creates a list of dictionaries for each athlete - can be transformed into a Dataframe"
   ]
  },
  {
   "cell_type": "code",
   "execution_count": 79,
   "id": "df917025",
   "metadata": {},
   "outputs": [
    {
     "name": "stdout",
     "output_type": "stream",
     "text": [
      "[{'Type': 'Competed in Olympic Games'}]\n",
      "[{'Type': 'Competed in Olympic Games'}, {'Sex': 'Male'}]\n",
      "[{'Type': 'Competed in Olympic Games'}, {'Sex': 'Male'}, {'Full name': 'Benjamin Sinclair \"Ben\"•Johnson, Jr.'}]\n",
      "[{'Type': 'Competed in Olympic Games'}, {'Sex': 'Male'}, {'Full name': 'Benjamin Sinclair \"Ben\"•Johnson, Jr.'}, {'Used name': 'Ben•Johnson'}]\n",
      "[{'Type': 'Competed in Olympic Games'}, {'Sex': 'Male'}, {'Full name': 'Benjamin Sinclair \"Ben\"•Johnson, Jr.'}, {'Used name': 'Ben•Johnson'}, {'Born': None}]\n",
      "[{'Type': 'Competed in Olympic Games'}, {'Sex': 'Male'}, {'Full name': 'Benjamin Sinclair \"Ben\"•Johnson, Jr.'}, {'Used name': 'Ben•Johnson'}, {'Born': None}, {'Measurements': '177 cm / 75 kg'}]\n",
      "[{'Type': 'Competed in Olympic Games'}, {'Sex': 'Male'}, {'Full name': 'Benjamin Sinclair \"Ben\"•Johnson, Jr.'}, {'Used name': 'Ben•Johnson'}, {'Born': None}, {'Measurements': '177 cm / 75 kg'}, {'Affiliations': 'York Optimists/Toronto/Mazda Optimists Track Club'}]\n",
      "[{'Type': 'Competed in Olympic Games'}, {'Sex': 'Male'}, {'Full name': 'Benjamin Sinclair \"Ben\"•Johnson, Jr.'}, {'Used name': 'Ben•Johnson'}, {'Born': None}, {'Measurements': '177 cm / 75 kg'}, {'Affiliations': 'York Optimists/Toronto/Mazda Optimists Track Club'}, {'NOC': None}]\n"
     ]
    },
    {
     "data": {
      "text/plain": [
       "[{'Type': 'Competed in Olympic Games'},\n",
       " {'Sex': 'Male'},\n",
       " {'Full name': 'Benjamin Sinclair \"Ben\"•Johnson, Jr.'},\n",
       " {'Used name': 'Ben•Johnson'},\n",
       " {'Born': None},\n",
       " {'Measurements': '177 cm / 75 kg'},\n",
       " {'Affiliations': 'York Optimists/Toronto/Mazda Optimists Track Club'},\n",
       " {'NOC': None}]"
      ]
     },
     "execution_count": 79,
     "metadata": {},
     "output_type": "execute_result"
    }
   ],
   "source": [
    "# I set up the URL to only grab one athletes data. \n",
    "# When scraping a data table I think the key is to go to each row, then each table head (th)\n",
    "#and match it with its corresponding table data (td)\n",
    "tabs = []\n",
    "for tr in bio_data.tbody.find_all('tr'):\n",
    "    tabs.append({\n",
    "        tr.find_all('th')[0].string : tr.find_all('td')[0].string\n",
    "            })\n",
    "\n",
    "    print(tabs)\n",
    "tabs"
   ]
  },
  {
   "cell_type": "code",
   "execution_count": 74,
   "id": "83b25e2a",
   "metadata": {},
   "outputs": [],
   "source": [
    "cols = ['Type', 'Sex', 'Full name', 'Used name', 'Born', 'Measurements', 'Affiliations', 'NOC']"
   ]
  },
  {
   "cell_type": "code",
   "execution_count": null,
   "id": "12cef7c2",
   "metadata": {},
   "outputs": [],
   "source": []
  },
  {
   "cell_type": "code",
   "execution_count": null,
   "id": "096a9850",
   "metadata": {},
   "outputs": [],
   "source": []
  },
  {
   "cell_type": "code",
   "execution_count": null,
   "id": "90ab78c6",
   "metadata": {},
   "outputs": [],
   "source": []
  },
  {
   "cell_type": "code",
   "execution_count": null,
   "id": "2bf348f4",
   "metadata": {},
   "outputs": [],
   "source": []
  },
  {
   "cell_type": "code",
   "execution_count": null,
   "id": "5858e3d1",
   "metadata": {},
   "outputs": [],
   "source": []
  },
  {
   "cell_type": "code",
   "execution_count": null,
   "id": "e9c2546f",
   "metadata": {},
   "outputs": [],
   "source": []
  },
  {
   "cell_type": "code",
   "execution_count": null,
   "id": "b7a5e19f",
   "metadata": {},
   "outputs": [],
   "source": []
  }
 ],
 "metadata": {
  "kernelspec": {
   "display_name": "Python 3",
   "language": "python",
   "name": "python3"
  },
  "language_info": {
   "codemirror_mode": {
    "name": "ipython",
    "version": 3
   },
   "file_extension": ".py",
   "mimetype": "text/x-python",
   "name": "python",
   "nbconvert_exporter": "python",
   "pygments_lexer": "ipython3",
   "version": "3.8.10"
  }
 },
 "nbformat": 4,
 "nbformat_minor": 5
}
