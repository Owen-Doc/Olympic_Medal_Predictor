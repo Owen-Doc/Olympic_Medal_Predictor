{
 "cells": [
  {
   "cell_type": "code",
   "execution_count": null,
   "id": "868ceefa",
   "metadata": {},
   "outputs": [],
   "source": [
    "import pandas as pd\n"
   ]
  },
  {
   "cell_type": "code",
   "execution_count": null,
   "id": "12944858",
   "metadata": {},
   "outputs": [],
   "source": [
    "# Create dataframe with filtered csv\n",
    "df = pd.read_csv('data/athlete_events_after1960.csv')\n",
    "df"
   ]
  },
  {
   "cell_type": "code",
   "execution_count": null,
   "id": "470479f5",
   "metadata": {},
   "outputs": [],
   "source": [
    "# Drops all any rows with NA\n",
    "df = df.dropna()"
   ]
  },
  {
   "cell_type": "code",
   "execution_count": null,
   "id": "193e3a41",
   "metadata": {},
   "outputs": [],
   "source": [
    "# SQL doesn't allow any \"\" to be contained within a field. Need to strip\n",
    "df['Name'].str.replace('\"','')\n",
    "#df['Name'] = df['Name'].map(lambda x: x.replace('\"\"',''))"
   ]
  },
  {
   "cell_type": "code",
   "execution_count": null,
   "id": "146457de",
   "metadata": {},
   "outputs": [],
   "source": [
    "df"
   ]
  },
  {
   "cell_type": "code",
   "execution_count": null,
   "id": "a20b8a8d",
   "metadata": {},
   "outputs": [],
   "source": [
    "df.to_csv('cleaned_athlete_data.csv', index=False)"
   ]
  }
 ],
 "metadata": {
  "kernelspec": {
   "display_name": "Python 3",
   "language": "python",
   "name": "python3"
  },
  "language_info": {
   "codemirror_mode": {
    "name": "ipython",
    "version": 3
   },
   "file_extension": ".py",
   "mimetype": "text/x-python",
   "name": "python",
   "nbconvert_exporter": "python",
   "pygments_lexer": "ipython3",
   "version": "3.8.10"
  }
 },
 "nbformat": 4,
 "nbformat_minor": 5
}
