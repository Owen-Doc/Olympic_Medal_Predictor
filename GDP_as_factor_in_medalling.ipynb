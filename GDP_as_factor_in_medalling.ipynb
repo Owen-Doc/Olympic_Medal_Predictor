{
 "cells": [
  {
   "cell_type": "code",
   "execution_count": 1,
   "id": "5aecbda3",
   "metadata": {},
   "outputs": [
    {
     "name": "stdout",
     "output_type": "stream",
     "text": [
      "Requirement already satisfied: keras-tuner in d:\\programdata\\anaconda3\\envs\\mlenv\\lib\\site-packages (1.0.3)\n",
      "Requirement already satisfied: requests in d:\\programdata\\anaconda3\\envs\\mlenv\\lib\\site-packages (from keras-tuner) (2.25.1)\n",
      "Requirement already satisfied: ipython in d:\\programdata\\anaconda3\\envs\\mlenv\\lib\\site-packages (from keras-tuner) (7.22.0)\n",
      "Requirement already satisfied: numpy in d:\\programdata\\anaconda3\\envs\\mlenv\\lib\\site-packages (from keras-tuner) (1.19.5)\n",
      "Requirement already satisfied: scipy in d:\\programdata\\anaconda3\\envs\\mlenv\\lib\\site-packages (from keras-tuner) (1.6.2)\n",
      "Requirement already satisfied: packaging in d:\\programdata\\anaconda3\\envs\\mlenv\\lib\\site-packages (from keras-tuner) (20.9)\n",
      "Requirement already satisfied: tensorboard in d:\\programdata\\anaconda3\\envs\\mlenv\\lib\\site-packages (from keras-tuner) (2.5.0)\n",
      "Requirement already satisfied: kt-legacy in d:\\programdata\\anaconda3\\envs\\mlenv\\lib\\site-packages (from keras-tuner) (1.0.3)\n",
      "Requirement already satisfied: decorator in d:\\programdata\\anaconda3\\envs\\mlenv\\lib\\site-packages (from ipython->keras-tuner) (5.0.6)\n",
      "Requirement already satisfied: pickleshare in d:\\programdata\\anaconda3\\envs\\mlenv\\lib\\site-packages (from ipython->keras-tuner) (0.7.5)\n",
      "Requirement already satisfied: setuptools>=18.5 in d:\\programdata\\anaconda3\\envs\\mlenv\\lib\\site-packages (from ipython->keras-tuner) (52.0.0.post20210125)\n",
      "Requirement already satisfied: jedi>=0.16 in d:\\programdata\\anaconda3\\envs\\mlenv\\lib\\site-packages (from ipython->keras-tuner) (0.17.2)\n",
      "Requirement already satisfied: backcall in d:\\programdata\\anaconda3\\envs\\mlenv\\lib\\site-packages (from ipython->keras-tuner) (0.2.0)\n",
      "Requirement already satisfied: traitlets>=4.2 in d:\\programdata\\anaconda3\\envs\\mlenv\\lib\\site-packages (from ipython->keras-tuner) (5.0.5)\n",
      "Requirement already satisfied: prompt-toolkit!=3.0.0,!=3.0.1,<3.1.0,>=2.0.0 in d:\\programdata\\anaconda3\\envs\\mlenv\\lib\\site-packages (from ipython->keras-tuner) (3.0.17)\n",
      "Requirement already satisfied: pygments in d:\\programdata\\anaconda3\\envs\\mlenv\\lib\\site-packages (from ipython->keras-tuner) (2.8.1)\n",
      "Requirement already satisfied: colorama in d:\\programdata\\anaconda3\\envs\\mlenv\\lib\\site-packages (from ipython->keras-tuner) (0.4.4)\n",
      "Requirement already satisfied: parso<0.8.0,>=0.7.0 in d:\\programdata\\anaconda3\\envs\\mlenv\\lib\\site-packages (from jedi>=0.16->ipython->keras-tuner) (0.7.0)\n",
      "Requirement already satisfied: wcwidth in d:\\programdata\\anaconda3\\envs\\mlenv\\lib\\site-packages (from prompt-toolkit!=3.0.0,!=3.0.1,<3.1.0,>=2.0.0->ipython->keras-tuner) (0.2.5)\n",
      "Requirement already satisfied: ipython-genutils in d:\\programdata\\anaconda3\\envs\\mlenv\\lib\\site-packages (from traitlets>=4.2->ipython->keras-tuner) (0.2.0)\n",
      "Requirement already satisfied: pyparsing>=2.0.2 in d:\\programdata\\anaconda3\\envs\\mlenv\\lib\\site-packages (from packaging->keras-tuner) (2.4.7)\n",
      "Requirement already satisfied: idna<3,>=2.5 in d:\\programdata\\anaconda3\\envs\\mlenv\\lib\\site-packages (from requests->keras-tuner) (2.10)\n",
      "Requirement already satisfied: urllib3<1.27,>=1.21.1 in d:\\programdata\\anaconda3\\envs\\mlenv\\lib\\site-packages (from requests->keras-tuner) (1.26.4)\n",
      "Requirement already satisfied: chardet<5,>=3.0.2 in d:\\programdata\\anaconda3\\envs\\mlenv\\lib\\site-packages (from requests->keras-tuner) (4.0.0)\n",
      "Requirement already satisfied: certifi>=2017.4.17 in d:\\programdata\\anaconda3\\envs\\mlenv\\lib\\site-packages (from requests->keras-tuner) (2020.12.5)\n",
      "Requirement already satisfied: wheel>=0.26 in d:\\programdata\\anaconda3\\envs\\mlenv\\lib\\site-packages (from tensorboard->keras-tuner) (0.36.2)\n",
      "Requirement already satisfied: absl-py>=0.4 in d:\\programdata\\anaconda3\\envs\\mlenv\\lib\\site-packages (from tensorboard->keras-tuner) (0.13.0)\n",
      "Requirement already satisfied: werkzeug>=0.11.15 in d:\\programdata\\anaconda3\\envs\\mlenv\\lib\\site-packages (from tensorboard->keras-tuner) (1.0.1)\n",
      "Requirement already satisfied: google-auth-oauthlib<0.5,>=0.4.1 in d:\\programdata\\anaconda3\\envs\\mlenv\\lib\\site-packages (from tensorboard->keras-tuner) (0.4.4)\n",
      "Requirement already satisfied: tensorboard-plugin-wit>=1.6.0 in d:\\programdata\\anaconda3\\envs\\mlenv\\lib\\site-packages (from tensorboard->keras-tuner) (1.8.0)\n",
      "Requirement already satisfied: grpcio>=1.24.3 in d:\\programdata\\anaconda3\\envs\\mlenv\\lib\\site-packages (from tensorboard->keras-tuner) (1.34.1)\n",
      "Requirement already satisfied: markdown>=2.6.8 in d:\\programdata\\anaconda3\\envs\\mlenv\\lib\\site-packages (from tensorboard->keras-tuner) (3.3.4)\n",
      "Requirement already satisfied: google-auth<2,>=1.6.3 in d:\\programdata\\anaconda3\\envs\\mlenv\\lib\\site-packages (from tensorboard->keras-tuner) (1.31.0)\n",
      "Requirement already satisfied: tensorboard-data-server<0.7.0,>=0.6.0 in d:\\programdata\\anaconda3\\envs\\mlenv\\lib\\site-packages (from tensorboard->keras-tuner) (0.6.1)\n",
      "Requirement already satisfied: protobuf>=3.6.0 in d:\\programdata\\anaconda3\\envs\\mlenv\\lib\\site-packages (from tensorboard->keras-tuner) (3.17.3)\n",
      "Requirement already satisfied: six in d:\\programdata\\anaconda3\\envs\\mlenv\\lib\\site-packages (from absl-py>=0.4->tensorboard->keras-tuner) (1.15.0)\n",
      "Requirement already satisfied: cachetools<5.0,>=2.0.0 in d:\\programdata\\anaconda3\\envs\\mlenv\\lib\\site-packages (from google-auth<2,>=1.6.3->tensorboard->keras-tuner) (4.2.2)\n",
      "Requirement already satisfied: pyasn1-modules>=0.2.1 in d:\\programdata\\anaconda3\\envs\\mlenv\\lib\\site-packages (from google-auth<2,>=1.6.3->tensorboard->keras-tuner) (0.2.8)\n",
      "Requirement already satisfied: rsa<5,>=3.1.4 in d:\\programdata\\anaconda3\\envs\\mlenv\\lib\\site-packages (from google-auth<2,>=1.6.3->tensorboard->keras-tuner) (4.7.2)\n",
      "Requirement already satisfied: requests-oauthlib>=0.7.0 in d:\\programdata\\anaconda3\\envs\\mlenv\\lib\\site-packages (from google-auth-oauthlib<0.5,>=0.4.1->tensorboard->keras-tuner) (1.3.0)\n",
      "Requirement already satisfied: importlib-metadata in d:\\programdata\\anaconda3\\envs\\mlenv\\lib\\site-packages (from markdown>=2.6.8->tensorboard->keras-tuner) (3.10.0)\n",
      "Requirement already satisfied: pyasn1<0.5.0,>=0.4.6 in d:\\programdata\\anaconda3\\envs\\mlenv\\lib\\site-packages (from pyasn1-modules>=0.2.1->google-auth<2,>=1.6.3->tensorboard->keras-tuner) (0.4.8)\n",
      "Requirement already satisfied: oauthlib>=3.0.0 in d:\\programdata\\anaconda3\\envs\\mlenv\\lib\\site-packages (from requests-oauthlib>=0.7.0->google-auth-oauthlib<0.5,>=0.4.1->tensorboard->keras-tuner) (3.1.1)\n",
      "Requirement already satisfied: typing-extensions>=3.6.4 in d:\\programdata\\anaconda3\\envs\\mlenv\\lib\\site-packages (from importlib-metadata->markdown>=2.6.8->tensorboard->keras-tuner) (3.7.4.3)\n",
      "Requirement already satisfied: zipp>=0.5 in d:\\programdata\\anaconda3\\envs\\mlenv\\lib\\site-packages (from importlib-metadata->markdown>=2.6.8->tensorboard->keras-tuner) (3.4.1)\n"
     ]
    }
   ],
   "source": [
    "!pip install keras-tuner"
   ]
  },
  {
   "cell_type": "code",
   "execution_count": 2,
   "id": "fd9ada51",
   "metadata": {},
   "outputs": [
    {
     "name": "stdout",
     "output_type": "stream",
     "text": [
      "Requirement already satisfied: eli5 in d:\\programdata\\anaconda3\\envs\\mlenv\\lib\\site-packages (0.11.0)\n",
      "Requirement already satisfied: tabulate>=0.7.7 in d:\\programdata\\anaconda3\\envs\\mlenv\\lib\\site-packages (from eli5) (0.8.9)\n",
      "Requirement already satisfied: jinja2 in d:\\programdata\\anaconda3\\envs\\mlenv\\lib\\site-packages (from eli5) (2.11.3)\n",
      "Requirement already satisfied: scipy in d:\\programdata\\anaconda3\\envs\\mlenv\\lib\\site-packages (from eli5) (1.6.2)\n",
      "Requirement already satisfied: six in d:\\programdata\\anaconda3\\envs\\mlenv\\lib\\site-packages (from eli5) (1.15.0)\n",
      "Requirement already satisfied: attrs>16.0.0 in d:\\programdata\\anaconda3\\envs\\mlenv\\lib\\site-packages (from eli5) (20.3.0)\n",
      "Requirement already satisfied: numpy>=1.9.0 in d:\\programdata\\anaconda3\\envs\\mlenv\\lib\\site-packages (from eli5) (1.19.5)\n",
      "Requirement already satisfied: graphviz in d:\\programdata\\anaconda3\\envs\\mlenv\\lib\\site-packages (from eli5) (0.17)\n",
      "Requirement already satisfied: scikit-learn>=0.20 in d:\\programdata\\anaconda3\\envs\\mlenv\\lib\\site-packages (from eli5) (0.24.1)\n",
      "Requirement already satisfied: joblib>=0.11 in d:\\programdata\\anaconda3\\envs\\mlenv\\lib\\site-packages (from scikit-learn>=0.20->eli5) (1.0.1)\n",
      "Requirement already satisfied: threadpoolctl>=2.0.0 in d:\\programdata\\anaconda3\\envs\\mlenv\\lib\\site-packages (from scikit-learn>=0.20->eli5) (2.1.0)\n",
      "Requirement already satisfied: MarkupSafe>=0.23 in d:\\programdata\\anaconda3\\envs\\mlenv\\lib\\site-packages (from jinja2->eli5) (1.1.1)\n"
     ]
    }
   ],
   "source": [
    "!pip install eli5"
   ]
  },
  {
   "cell_type": "code",
   "execution_count": 3,
   "id": "3a4331eb",
   "metadata": {},
   "outputs": [],
   "source": [
    "# Import our dependencies\n",
    "import pandas as pd\n",
    "import matplotlib as plt\n",
    "import sklearn as skl\n",
    "import tensorflow as tf\n",
    "from sklearn.model_selection import train_test_split\n",
    "from sklearn import preprocessing\n",
    "from sklearn.preprocessing import StandardScaler,OneHotEncoder\n",
    "from sklearn.ensemble import RandomForestClassifier\n",
    "from sklearn.metrics import accuracy_score\n",
    "from sklearn.feature_extraction import DictVectorizer\n",
    "from sklearn.preprocessing import FunctionTransformer\n",
    "import eli5\n",
    "from eli5.sklearn import PermutationImportance\n",
    "import matplotlib.pyplot as plt\n",
    "import numpy as np"
   ]
  },
  {
   "cell_type": "code",
   "execution_count": 4,
   "id": "7e8ec691",
   "metadata": {},
   "outputs": [
    {
     "data": {
      "text/html": [
       "<div>\n",
       "<style scoped>\n",
       "    .dataframe tbody tr th:only-of-type {\n",
       "        vertical-align: middle;\n",
       "    }\n",
       "\n",
       "    .dataframe tbody tr th {\n",
       "        vertical-align: top;\n",
       "    }\n",
       "\n",
       "    .dataframe thead th {\n",
       "        text-align: right;\n",
       "    }\n",
       "</style>\n",
       "<table border=\"1\" class=\"dataframe\">\n",
       "  <thead>\n",
       "    <tr style=\"text-align: right;\">\n",
       "      <th></th>\n",
       "      <th>ID</th>\n",
       "      <th>Name</th>\n",
       "      <th>Sex</th>\n",
       "      <th>Age</th>\n",
       "      <th>Height</th>\n",
       "      <th>Weight</th>\n",
       "      <th>Team</th>\n",
       "      <th>NOC</th>\n",
       "      <th>Games</th>\n",
       "      <th>Year</th>\n",
       "      <th>...</th>\n",
       "      <th>Medal_Type</th>\n",
       "      <th>Medal</th>\n",
       "      <th>Row</th>\n",
       "      <th>Employment</th>\n",
       "      <th>Population</th>\n",
       "      <th>UnemploymentRate</th>\n",
       "      <th>GDP</th>\n",
       "      <th>DateofInfraction</th>\n",
       "      <th>IneligibilityUntil</th>\n",
       "      <th>LifetimeBan</th>\n",
       "    </tr>\n",
       "  </thead>\n",
       "  <tbody>\n",
       "    <tr>\n",
       "      <th>0</th>\n",
       "      <td>1</td>\n",
       "      <td>A Dijiang</td>\n",
       "      <td>M</td>\n",
       "      <td>24.0</td>\n",
       "      <td>180.0</td>\n",
       "      <td>80.0</td>\n",
       "      <td>China</td>\n",
       "      <td>CHN</td>\n",
       "      <td>1992 Summer</td>\n",
       "      <td>1992</td>\n",
       "      <td>...</td>\n",
       "      <td>No_Medal</td>\n",
       "      <td>N</td>\n",
       "      <td>2</td>\n",
       "      <td>0.000</td>\n",
       "      <td>1171.710</td>\n",
       "      <td>2.300</td>\n",
       "      <td>492.155</td>\n",
       "      <td>0.0</td>\n",
       "      <td>0.0</td>\n",
       "      <td>0.0</td>\n",
       "    </tr>\n",
       "    <tr>\n",
       "      <th>1</th>\n",
       "      <td>2</td>\n",
       "      <td>A Lamusi</td>\n",
       "      <td>M</td>\n",
       "      <td>23.0</td>\n",
       "      <td>170.0</td>\n",
       "      <td>60.0</td>\n",
       "      <td>China</td>\n",
       "      <td>CHN</td>\n",
       "      <td>2012 Summer</td>\n",
       "      <td>2012</td>\n",
       "      <td>...</td>\n",
       "      <td>No_Medal</td>\n",
       "      <td>N</td>\n",
       "      <td>3</td>\n",
       "      <td>0.000</td>\n",
       "      <td>1354.040</td>\n",
       "      <td>4.090</td>\n",
       "      <td>8539.470</td>\n",
       "      <td>0.0</td>\n",
       "      <td>0.0</td>\n",
       "      <td>0.0</td>\n",
       "    </tr>\n",
       "    <tr>\n",
       "      <th>2</th>\n",
       "      <td>5</td>\n",
       "      <td>Christine Jacoba Aaftink</td>\n",
       "      <td>F</td>\n",
       "      <td>21.0</td>\n",
       "      <td>185.0</td>\n",
       "      <td>82.0</td>\n",
       "      <td>Netherlands</td>\n",
       "      <td>NED</td>\n",
       "      <td>1988 Winter</td>\n",
       "      <td>1988</td>\n",
       "      <td>...</td>\n",
       "      <td>No_Medal</td>\n",
       "      <td>N</td>\n",
       "      <td>4</td>\n",
       "      <td>6.093</td>\n",
       "      <td>14.715</td>\n",
       "      <td>6.247</td>\n",
       "      <td>264.223</td>\n",
       "      <td>0.0</td>\n",
       "      <td>0.0</td>\n",
       "      <td>0.0</td>\n",
       "    </tr>\n",
       "    <tr>\n",
       "      <th>3</th>\n",
       "      <td>5</td>\n",
       "      <td>Christine Jacoba Aaftink</td>\n",
       "      <td>F</td>\n",
       "      <td>21.0</td>\n",
       "      <td>185.0</td>\n",
       "      <td>82.0</td>\n",
       "      <td>Netherlands</td>\n",
       "      <td>NED</td>\n",
       "      <td>1988 Winter</td>\n",
       "      <td>1988</td>\n",
       "      <td>...</td>\n",
       "      <td>No_Medal</td>\n",
       "      <td>N</td>\n",
       "      <td>5</td>\n",
       "      <td>6.093</td>\n",
       "      <td>14.715</td>\n",
       "      <td>6.247</td>\n",
       "      <td>264.223</td>\n",
       "      <td>0.0</td>\n",
       "      <td>0.0</td>\n",
       "      <td>0.0</td>\n",
       "    </tr>\n",
       "    <tr>\n",
       "      <th>4</th>\n",
       "      <td>5</td>\n",
       "      <td>Christine Jacoba Aaftink</td>\n",
       "      <td>F</td>\n",
       "      <td>25.0</td>\n",
       "      <td>185.0</td>\n",
       "      <td>82.0</td>\n",
       "      <td>Netherlands</td>\n",
       "      <td>NED</td>\n",
       "      <td>1992 Winter</td>\n",
       "      <td>1992</td>\n",
       "      <td>...</td>\n",
       "      <td>No_Medal</td>\n",
       "      <td>N</td>\n",
       "      <td>6</td>\n",
       "      <td>6.648</td>\n",
       "      <td>15.129</td>\n",
       "      <td>4.865</td>\n",
       "      <td>366.004</td>\n",
       "      <td>0.0</td>\n",
       "      <td>0.0</td>\n",
       "      <td>0.0</td>\n",
       "    </tr>\n",
       "  </tbody>\n",
       "</table>\n",
       "<p>5 rows × 24 columns</p>\n",
       "</div>"
      ],
      "text/plain": [
       "   ID                      Name Sex   Age  Height  Weight         Team  NOC  \\\n",
       "0   1                 A Dijiang   M  24.0   180.0    80.0        China  CHN   \n",
       "1   2                  A Lamusi   M  23.0   170.0    60.0        China  CHN   \n",
       "2   5  Christine Jacoba Aaftink   F  21.0   185.0    82.0  Netherlands  NED   \n",
       "3   5  Christine Jacoba Aaftink   F  21.0   185.0    82.0  Netherlands  NED   \n",
       "4   5  Christine Jacoba Aaftink   F  25.0   185.0    82.0  Netherlands  NED   \n",
       "\n",
       "         Games  Year  ... Medal_Type Medal Row Employment Population  \\\n",
       "0  1992 Summer  1992  ...   No_Medal     N   2      0.000   1171.710   \n",
       "1  2012 Summer  2012  ...   No_Medal     N   3      0.000   1354.040   \n",
       "2  1988 Winter  1988  ...   No_Medal     N   4      6.093     14.715   \n",
       "3  1988 Winter  1988  ...   No_Medal     N   5      6.093     14.715   \n",
       "4  1992 Winter  1992  ...   No_Medal     N   6      6.648     15.129   \n",
       "\n",
       "  UnemploymentRate       GDP  DateofInfraction  IneligibilityUntil  \\\n",
       "0            2.300   492.155               0.0                 0.0   \n",
       "1            4.090  8539.470               0.0                 0.0   \n",
       "2            6.247   264.223               0.0                 0.0   \n",
       "3            6.247   264.223               0.0                 0.0   \n",
       "4            4.865   366.004               0.0                 0.0   \n",
       "\n",
       "   LifetimeBan  \n",
       "0          0.0  \n",
       "1          0.0  \n",
       "2          0.0  \n",
       "3          0.0  \n",
       "4          0.0  \n",
       "\n",
       "[5 rows x 24 columns]"
      ]
     },
     "execution_count": 4,
     "metadata": {},
     "output_type": "execute_result"
    }
   ],
   "source": [
    "# Load in features dataset\n",
    "file_path = \"Resources/cleaned_athlete_gdp_sanction_data.csv\"\n",
    "athletes_df = pd.read_csv(file_path)\n",
    "athletes_df.head()"
   ]
  },
  {
   "cell_type": "code",
   "execution_count": 5,
   "id": "99c115e4",
   "metadata": {},
   "outputs": [
    {
     "data": {
      "text/html": [
       "<div>\n",
       "<style scoped>\n",
       "    .dataframe tbody tr th:only-of-type {\n",
       "        vertical-align: middle;\n",
       "    }\n",
       "\n",
       "    .dataframe tbody tr th {\n",
       "        vertical-align: top;\n",
       "    }\n",
       "\n",
       "    .dataframe thead th {\n",
       "        text-align: right;\n",
       "    }\n",
       "</style>\n",
       "<table border=\"1\" class=\"dataframe\">\n",
       "  <thead>\n",
       "    <tr style=\"text-align: right;\">\n",
       "      <th></th>\n",
       "      <th>Host City</th>\n",
       "      <th>Host Country</th>\n",
       "    </tr>\n",
       "  </thead>\n",
       "  <tbody>\n",
       "    <tr>\n",
       "      <th>0</th>\n",
       "      <td>Barcelona</td>\n",
       "      <td>ESP</td>\n",
       "    </tr>\n",
       "    <tr>\n",
       "      <th>1</th>\n",
       "      <td>London</td>\n",
       "      <td>GBR</td>\n",
       "    </tr>\n",
       "    <tr>\n",
       "      <th>2</th>\n",
       "      <td>Antwerpen</td>\n",
       "      <td>BEL</td>\n",
       "    </tr>\n",
       "    <tr>\n",
       "      <th>3</th>\n",
       "      <td>Paris</td>\n",
       "      <td>FRA</td>\n",
       "    </tr>\n",
       "    <tr>\n",
       "      <th>4</th>\n",
       "      <td>Calgary</td>\n",
       "      <td>CAN</td>\n",
       "    </tr>\n",
       "  </tbody>\n",
       "</table>\n",
       "</div>"
      ],
      "text/plain": [
       "   Host City Host Country\n",
       "0  Barcelona          ESP\n",
       "1     London          GBR\n",
       "2  Antwerpen          BEL\n",
       "3      Paris          FRA\n",
       "4    Calgary          CAN"
      ]
     },
     "execution_count": 5,
     "metadata": {},
     "output_type": "execute_result"
    }
   ],
   "source": [
    "# Load in features dataset\n",
    "file_path = \"data/host_cities.csv\"\n",
    "host_df = pd.read_csv(file_path)\n",
    "host_df.head()"
   ]
  },
  {
   "cell_type": "code",
   "execution_count": 6,
   "id": "366575bb",
   "metadata": {
    "scrolled": true
   },
   "outputs": [
    {
     "data": {
      "text/html": [
       "<div>\n",
       "<style scoped>\n",
       "    .dataframe tbody tr th:only-of-type {\n",
       "        vertical-align: middle;\n",
       "    }\n",
       "\n",
       "    .dataframe tbody tr th {\n",
       "        vertical-align: top;\n",
       "    }\n",
       "\n",
       "    .dataframe thead th {\n",
       "        text-align: right;\n",
       "    }\n",
       "</style>\n",
       "<table border=\"1\" class=\"dataframe\">\n",
       "  <thead>\n",
       "    <tr style=\"text-align: right;\">\n",
       "      <th></th>\n",
       "      <th>ID</th>\n",
       "      <th>Name</th>\n",
       "      <th>Sex</th>\n",
       "      <th>Age</th>\n",
       "      <th>Height</th>\n",
       "      <th>Weight</th>\n",
       "      <th>Team</th>\n",
       "      <th>NOC</th>\n",
       "      <th>Games</th>\n",
       "      <th>Year</th>\n",
       "      <th>...</th>\n",
       "      <th>UnemploymentRate</th>\n",
       "      <th>GDP</th>\n",
       "      <th>DateofInfraction</th>\n",
       "      <th>IneligibilityUntil</th>\n",
       "      <th>LifetimeBan</th>\n",
       "      <th>Host City</th>\n",
       "      <th>Host Country</th>\n",
       "      <th>Home_Field_Adv</th>\n",
       "      <th>Summer</th>\n",
       "      <th>Male</th>\n",
       "    </tr>\n",
       "  </thead>\n",
       "  <tbody>\n",
       "    <tr>\n",
       "      <th>0</th>\n",
       "      <td>1</td>\n",
       "      <td>A Dijiang</td>\n",
       "      <td>M</td>\n",
       "      <td>24.0</td>\n",
       "      <td>180.0</td>\n",
       "      <td>80.0</td>\n",
       "      <td>China</td>\n",
       "      <td>CHN</td>\n",
       "      <td>1992 Summer</td>\n",
       "      <td>1992</td>\n",
       "      <td>...</td>\n",
       "      <td>2.300</td>\n",
       "      <td>492.155</td>\n",
       "      <td>0.0</td>\n",
       "      <td>0.0</td>\n",
       "      <td>0.0</td>\n",
       "      <td>Barcelona</td>\n",
       "      <td>ESP</td>\n",
       "      <td>0</td>\n",
       "      <td>1</td>\n",
       "      <td>False</td>\n",
       "    </tr>\n",
       "    <tr>\n",
       "      <th>1</th>\n",
       "      <td>33</td>\n",
       "      <td>Mika Lauri Aarnikka</td>\n",
       "      <td>M</td>\n",
       "      <td>24.0</td>\n",
       "      <td>187.0</td>\n",
       "      <td>76.0</td>\n",
       "      <td>Finland</td>\n",
       "      <td>FIN</td>\n",
       "      <td>1992 Summer</td>\n",
       "      <td>1992</td>\n",
       "      <td>...</td>\n",
       "      <td>11.800</td>\n",
       "      <td>113.134</td>\n",
       "      <td>0.0</td>\n",
       "      <td>0.0</td>\n",
       "      <td>0.0</td>\n",
       "      <td>Barcelona</td>\n",
       "      <td>ESP</td>\n",
       "      <td>0</td>\n",
       "      <td>1</td>\n",
       "      <td>False</td>\n",
       "    </tr>\n",
       "    <tr>\n",
       "      <th>2</th>\n",
       "      <td>43</td>\n",
       "      <td>Morten Gjerdrum Aasen</td>\n",
       "      <td>M</td>\n",
       "      <td>34.0</td>\n",
       "      <td>185.0</td>\n",
       "      <td>75.0</td>\n",
       "      <td>Norway</td>\n",
       "      <td>NOR</td>\n",
       "      <td>1992 Summer</td>\n",
       "      <td>1992</td>\n",
       "      <td>...</td>\n",
       "      <td>5.915</td>\n",
       "      <td>130.838</td>\n",
       "      <td>0.0</td>\n",
       "      <td>0.0</td>\n",
       "      <td>0.0</td>\n",
       "      <td>Barcelona</td>\n",
       "      <td>ESP</td>\n",
       "      <td>0</td>\n",
       "      <td>1</td>\n",
       "      <td>False</td>\n",
       "    </tr>\n",
       "    <tr>\n",
       "      <th>3</th>\n",
       "      <td>50</td>\n",
       "      <td>Arvi Aavik</td>\n",
       "      <td>M</td>\n",
       "      <td>22.0</td>\n",
       "      <td>185.0</td>\n",
       "      <td>106.0</td>\n",
       "      <td>Estonia</td>\n",
       "      <td>EST</td>\n",
       "      <td>1992 Summer</td>\n",
       "      <td>1992</td>\n",
       "      <td>...</td>\n",
       "      <td>0.000</td>\n",
       "      <td>0.000</td>\n",
       "      <td>0.0</td>\n",
       "      <td>0.0</td>\n",
       "      <td>0.0</td>\n",
       "      <td>Barcelona</td>\n",
       "      <td>ESP</td>\n",
       "      <td>0</td>\n",
       "      <td>1</td>\n",
       "      <td>False</td>\n",
       "    </tr>\n",
       "    <tr>\n",
       "      <th>4</th>\n",
       "      <td>71</td>\n",
       "      <td>Juan Antonio Aball Delgado</td>\n",
       "      <td>M</td>\n",
       "      <td>27.0</td>\n",
       "      <td>172.0</td>\n",
       "      <td>82.0</td>\n",
       "      <td>Cuba</td>\n",
       "      <td>CUB</td>\n",
       "      <td>1992 Summer</td>\n",
       "      <td>1992</td>\n",
       "      <td>...</td>\n",
       "      <td>0.000</td>\n",
       "      <td>0.000</td>\n",
       "      <td>0.0</td>\n",
       "      <td>0.0</td>\n",
       "      <td>0.0</td>\n",
       "      <td>Barcelona</td>\n",
       "      <td>ESP</td>\n",
       "      <td>0</td>\n",
       "      <td>1</td>\n",
       "      <td>False</td>\n",
       "    </tr>\n",
       "  </tbody>\n",
       "</table>\n",
       "<p>5 rows × 29 columns</p>\n",
       "</div>"
      ],
      "text/plain": [
       "   ID                        Name Sex   Age  Height  Weight     Team  NOC  \\\n",
       "0   1                   A Dijiang   M  24.0   180.0    80.0    China  CHN   \n",
       "1  33         Mika Lauri Aarnikka   M  24.0   187.0    76.0  Finland  FIN   \n",
       "2  43       Morten Gjerdrum Aasen   M  34.0   185.0    75.0   Norway  NOR   \n",
       "3  50                  Arvi Aavik   M  22.0   185.0   106.0  Estonia  EST   \n",
       "4  71  Juan Antonio Aball Delgado   M  27.0   172.0    82.0     Cuba  CUB   \n",
       "\n",
       "         Games  Year  ... UnemploymentRate      GDP DateofInfraction  \\\n",
       "0  1992 Summer  1992  ...            2.300  492.155              0.0   \n",
       "1  1992 Summer  1992  ...           11.800  113.134              0.0   \n",
       "2  1992 Summer  1992  ...            5.915  130.838              0.0   \n",
       "3  1992 Summer  1992  ...            0.000    0.000              0.0   \n",
       "4  1992 Summer  1992  ...            0.000    0.000              0.0   \n",
       "\n",
       "  IneligibilityUntil LifetimeBan  Host City  Host Country  Home_Field_Adv  \\\n",
       "0                0.0         0.0  Barcelona           ESP               0   \n",
       "1                0.0         0.0  Barcelona           ESP               0   \n",
       "2                0.0         0.0  Barcelona           ESP               0   \n",
       "3                0.0         0.0  Barcelona           ESP               0   \n",
       "4                0.0         0.0  Barcelona           ESP               0   \n",
       "\n",
       "   Summer   Male  \n",
       "0       1  False  \n",
       "1       1  False  \n",
       "2       1  False  \n",
       "3       1  False  \n",
       "4       1  False  \n",
       "\n",
       "[5 rows x 29 columns]"
      ]
     },
     "execution_count": 6,
     "metadata": {},
     "output_type": "execute_result"
    }
   ],
   "source": [
    "# Merge athletes and host citiy dataframes and create new dataframe\n",
    "olympics_df = athletes_df.merge(host_df, left_on=\"City\", right_on=\"Host City\")\n",
    "# Binary classifiers for Season, Home Field Advantage\n",
    "olympics_df['Home_Field_Adv'] = np.where(olympics_df['Host Country'] == olympics_df['NOC'], 1, 0)\n",
    "olympics_df['Summer'] = np.where(olympics_df['Season'] == 'Summer', 1, 0)\n",
    "\n",
    "# Tackle classification problem of gender\n",
    "olympics_df['Male'] = olympics_df['Sex'] == '1'\n",
    "\n",
    "# Convert to integers\n",
    "olympics_df['Home_Field_Adv'].astype('int64')\n",
    "olympics_df['Summer'].astype('int64')\n",
    "olympics_df.head()"
   ]
  },
  {
   "cell_type": "code",
   "execution_count": 7,
   "id": "985e3298",
   "metadata": {},
   "outputs": [
    {
     "name": "stderr",
     "output_type": "stream",
     "text": [
      "D:\\ProgramData\\Anaconda3\\envs\\mlenv\\lib\\site-packages\\ipykernel_launcher.py:1: FutureWarning: Indexing with multiple keys (implicitly converted to a tuple of keys) will be deprecated, use a list instead.\n",
      "  \"\"\"Entry point for launching an IPython kernel.\n"
     ]
    },
    {
     "data": {
      "text/html": [
       "<div>\n",
       "<style scoped>\n",
       "    .dataframe tbody tr th:only-of-type {\n",
       "        vertical-align: middle;\n",
       "    }\n",
       "\n",
       "    .dataframe tbody tr th {\n",
       "        vertical-align: top;\n",
       "    }\n",
       "\n",
       "    .dataframe thead th {\n",
       "        text-align: right;\n",
       "    }\n",
       "</style>\n",
       "<table border=\"1\" class=\"dataframe\">\n",
       "  <thead>\n",
       "    <tr style=\"text-align: right;\">\n",
       "      <th></th>\n",
       "      <th>Games</th>\n",
       "      <th>NOC</th>\n",
       "      <th>Male</th>\n",
       "      <th>Team</th>\n",
       "      <th>Year</th>\n",
       "      <th>GDP</th>\n",
       "      <th>Population</th>\n",
       "      <th>Home_Field_Adv</th>\n",
       "      <th>Summer</th>\n",
       "      <th>Sport</th>\n",
       "      <th>Event</th>\n",
       "      <th>Medal</th>\n",
       "    </tr>\n",
       "  </thead>\n",
       "  <tbody>\n",
       "    <tr>\n",
       "      <th>0</th>\n",
       "      <td>1980 Summer</td>\n",
       "      <td>AFG</td>\n",
       "      <td>False</td>\n",
       "      <td>Afghanistan</td>\n",
       "      <td>1980</td>\n",
       "      <td>0.000</td>\n",
       "      <td>0.000</td>\n",
       "      <td>0</td>\n",
       "      <td>1</td>\n",
       "      <td>2</td>\n",
       "      <td>11</td>\n",
       "      <td>1</td>\n",
       "    </tr>\n",
       "    <tr>\n",
       "      <th>1</th>\n",
       "      <td>1980 Summer</td>\n",
       "      <td>ALG</td>\n",
       "      <td>False</td>\n",
       "      <td>Algeria</td>\n",
       "      <td>1980</td>\n",
       "      <td>42.346</td>\n",
       "      <td>18.666</td>\n",
       "      <td>0</td>\n",
       "      <td>1</td>\n",
       "      <td>9</td>\n",
       "      <td>27</td>\n",
       "      <td>1</td>\n",
       "    </tr>\n",
       "    <tr>\n",
       "      <th>2</th>\n",
       "      <td>1980 Summer</td>\n",
       "      <td>ANG</td>\n",
       "      <td>False</td>\n",
       "      <td>Angola</td>\n",
       "      <td>1980</td>\n",
       "      <td>6.639</td>\n",
       "      <td>8.910</td>\n",
       "      <td>0</td>\n",
       "      <td>1</td>\n",
       "      <td>3</td>\n",
       "      <td>14</td>\n",
       "      <td>1</td>\n",
       "    </tr>\n",
       "    <tr>\n",
       "      <th>3</th>\n",
       "      <td>1980 Summer</td>\n",
       "      <td>AUS</td>\n",
       "      <td>False</td>\n",
       "      <td>Australia</td>\n",
       "      <td>1980</td>\n",
       "      <td>162.628</td>\n",
       "      <td>14.802</td>\n",
       "      <td>0</td>\n",
       "      <td>1</td>\n",
       "      <td>17</td>\n",
       "      <td>92</td>\n",
       "      <td>2</td>\n",
       "    </tr>\n",
       "    <tr>\n",
       "      <th>4</th>\n",
       "      <td>1980 Summer</td>\n",
       "      <td>AUT</td>\n",
       "      <td>False</td>\n",
       "      <td>Austria</td>\n",
       "      <td>1980</td>\n",
       "      <td>80.923</td>\n",
       "      <td>7.540</td>\n",
       "      <td>0</td>\n",
       "      <td>1</td>\n",
       "      <td>16</td>\n",
       "      <td>51</td>\n",
       "      <td>2</td>\n",
       "    </tr>\n",
       "  </tbody>\n",
       "</table>\n",
       "</div>"
      ],
      "text/plain": [
       "         Games  NOC   Male         Team  Year      GDP  Population  \\\n",
       "0  1980 Summer  AFG  False  Afghanistan  1980    0.000       0.000   \n",
       "1  1980 Summer  ALG  False      Algeria  1980   42.346      18.666   \n",
       "2  1980 Summer  ANG  False       Angola  1980    6.639       8.910   \n",
       "3  1980 Summer  AUS  False    Australia  1980  162.628      14.802   \n",
       "4  1980 Summer  AUT  False      Austria  1980   80.923       7.540   \n",
       "\n",
       "   Home_Field_Adv  Summer  Sport  Event  Medal  \n",
       "0               0       1      2     11      1  \n",
       "1               0       1      9     27      1  \n",
       "2               0       1      3     14      1  \n",
       "3               0       1     17     92      2  \n",
       "4               0       1     16     51      2  "
      ]
     },
     "execution_count": 7,
     "metadata": {},
     "output_type": "execute_result"
    }
   ],
   "source": [
    "athletes_df = pd.DataFrame(olympics_df.groupby(['Games','NOC','Male','Team','Year','GDP','Population','Home_Field_Adv','Summer'])['Sport', 'Event','Medal'].nunique())\n",
    "athletes_df = athletes_df.reset_index()\n",
    "athletes_df.head()"
   ]
  },
  {
   "cell_type": "markdown",
   "id": "d15f73de",
   "metadata": {},
   "source": [
    "# Athlete Participation over the years"
   ]
  },
  {
   "cell_type": "code",
   "execution_count": 8,
   "id": "1a120ff2",
   "metadata": {},
   "outputs": [
    {
     "data": {
      "image/png": "[encoded data removed]",
      "text/plain": [
       "<Figure size 648x360 with 1 Axes>"
      ]
     },
     "metadata": {
      "needs_background": "light"
     },
     "output_type": "display_data"
    }
   ],
   "source": [
    "plt.figure(figsize=(9,5))\n",
    "x = athletes_df.Year\n",
    "plt.hist(x, density=False, rwidth = .5)\n",
    "my_xticks = sorted(set(x))\n",
    "plt.xlabel('Years of participation', fontsize=15)\n",
    "plt.ylabel('Count of Athletes', fontsize=15)\n",
    "\n",
    "plt.xticks(my_xticks, visible=True, rotation=45)\n",
    "plt.grid(axis='y')"
   ]
  },
  {
   "cell_type": "code",
   "execution_count": 9,
   "id": "92b56df4",
   "metadata": {
    "scrolled": true
   },
   "outputs": [
    {
     "data": {
      "text/plain": [
       "Games              object\n",
       "NOC                object\n",
       "Male                 bool\n",
       "Team               object\n",
       "Year                int64\n",
       "GDP               float64\n",
       "Population        float64\n",
       "Home_Field_Adv      int64\n",
       "Summer              int64\n",
       "Sport               int64\n",
       "Event               int64\n",
       "Medal               int64\n",
       "dtype: object"
      ]
     },
     "execution_count": 9,
     "metadata": {},
     "output_type": "execute_result"
    }
   ],
   "source": [
    "athletes_df.dtypes"
   ]
  },
  {
   "cell_type": "markdown",
   "id": "4e499519",
   "metadata": {},
   "source": [
    "# Custom Encoding"
   ]
  },
  {
   "cell_type": "code",
   "execution_count": 10,
   "id": "d12fe518",
   "metadata": {},
   "outputs": [
    {
     "data": {
      "text/plain": [
       "NOC    185\n",
       "dtype: int64"
      ]
     },
     "execution_count": 10,
     "metadata": {},
     "output_type": "execute_result"
    }
   ],
   "source": [
    "# Generate our categorical variable list\n",
    "athletes_df.drop(athletes_df.loc[athletes_df['GDP']==0].index, inplace=True)\n",
    "athletes_df.drop(athletes_df.loc[athletes_df['Population']==0].index, inplace=True)\n",
    "athletes_df.drop(columns = {'Games','Team','Year'}, axis=1, inplace=True)\n",
    "#athletes_df.drop(columns = {'Medal_Type'}, axis=1, inplace=True)\n",
    "athletes_cat = athletes_df.dtypes[athletes_df.dtypes == \"object\"].index.tolist()\n",
    "\n",
    "# Check the number of unique values in each column\n",
    "athletes_df[athletes_cat].nunique()"
   ]
  },
  {
   "cell_type": "code",
   "execution_count": 11,
   "id": "c9a9b9d1",
   "metadata": {},
   "outputs": [
    {
     "name": "stdout",
     "output_type": "stream",
     "text": [
      "185\n"
     ]
    },
    {
     "data": {
      "text/plain": [
       "array(['ALG', 'ANG', 'AUS', 'AUT', 'BEL', 'BEN', 'BOT', 'BRA', 'BUL',\n",
       "       'CMR', 'COL', 'CRC', 'CYP', 'DEN', 'DOM', 'ECU', 'ESP', 'ETH',\n",
       "       'FIN', 'FRA', 'GBR', 'GRE', 'GUA', 'GUY', 'HUN', 'IND', 'IRL',\n",
       "       'ISL', 'ITA', 'JAM', 'JOR', 'KUW', 'LAO', 'LES', 'LIB', 'LUX',\n",
       "       'MAD', 'MEX', 'MLI', 'MOZ', 'NED', 'NEP', 'NZL', 'PER', 'POL',\n",
       "       'POR', 'PUR', 'ROU', 'SEN', 'SEY', 'SLE', 'SRI', 'SUI', 'SWE',\n",
       "       'SYR', 'TAN', 'TTO', 'UGA', 'VEN', 'VIE', 'ZAM', 'ARG', 'BOL',\n",
       "       'CAN', 'CHN', 'JPN', 'KOR', 'NOR', 'USA', 'ANT', 'BAN', 'BAR',\n",
       "       'BHU', 'BIZ', 'BRN', 'CAF', 'CHA', 'CHI', 'CIV', 'COD', 'EGY',\n",
       "       'ESA', 'FIJ', 'GAB', 'GEQ', 'GHA', 'GRN', 'HAI', 'HKG', 'HON',\n",
       "       'INA', 'ISR', 'KEN', 'KSA', 'MAR', 'MAS', 'MAW', 'MRI', 'NIG',\n",
       "       'OMA', 'PAK', 'PAN', 'PAR', 'PHI', 'PNG', 'QAT', 'RWA', 'SGP',\n",
       "       'SOL', 'SUD', 'SWZ', 'THA', 'TOG', 'TUN', 'TUR', 'URU', 'BUR',\n",
       "       'IRI', 'LBA', 'MDV', 'TGA', 'UAE', 'VAN', 'ALB', 'CRO', 'DJI',\n",
       "       'GER', 'GUI', 'LAT', 'MGL', 'MTN', 'NAM', 'NGR', 'RSA', 'SLO',\n",
       "       'SUR', 'YEM', 'ZIM', 'ARM', 'BLR', 'EST', 'GEO', 'KAZ', 'MDA',\n",
       "       'RUS', 'SVK', 'UKR', 'UZB', 'ARU', 'AZE', 'BDI', 'BIH', 'BRU',\n",
       "       'CAM', 'COM', 'CPV', 'CZE', 'DMA', 'KGZ', 'LCA', 'LTU', 'MKD',\n",
       "       'MLT', 'NCA', 'STP', 'TJK', 'TKM', 'ERI', 'FSM', 'LBR', 'MYA',\n",
       "       'PLW', 'AFG', 'IRQ', 'KIR', 'NRU', 'SAM', 'SMR', 'TLS', 'MHL',\n",
       "       'MNE', 'SRB', 'TUV', 'KOS', 'SSD'], dtype=object)"
      ]
     },
     "execution_count": 11,
     "metadata": {},
     "output_type": "execute_result"
    }
   ],
   "source": [
    "# Unique values of NOC\n",
    "print(len(athletes_df['NOC'].unique()))\n",
    "athletes_df['NOC'].unique()"
   ]
  },
  {
   "cell_type": "code",
   "execution_count": 12,
   "id": "e885248b",
   "metadata": {},
   "outputs": [
    {
     "data": {
      "text/html": [
       "<div>\n",
       "<style scoped>\n",
       "    .dataframe tbody tr th:only-of-type {\n",
       "        vertical-align: middle;\n",
       "    }\n",
       "\n",
       "    .dataframe tbody tr th {\n",
       "        vertical-align: top;\n",
       "    }\n",
       "\n",
       "    .dataframe thead th {\n",
       "        text-align: right;\n",
       "    }\n",
       "</style>\n",
       "<table border=\"1\" class=\"dataframe\">\n",
       "  <thead>\n",
       "    <tr style=\"text-align: right;\">\n",
       "      <th></th>\n",
       "      <th>NOC</th>\n",
       "      <th>Male</th>\n",
       "      <th>GDP</th>\n",
       "      <th>Population</th>\n",
       "      <th>Home_Field_Adv</th>\n",
       "      <th>Summer</th>\n",
       "      <th>Sport</th>\n",
       "      <th>Event</th>\n",
       "      <th>Medal</th>\n",
       "    </tr>\n",
       "  </thead>\n",
       "  <tbody>\n",
       "    <tr>\n",
       "      <th>1</th>\n",
       "      <td>2</td>\n",
       "      <td>False</td>\n",
       "      <td>42.346</td>\n",
       "      <td>18.666</td>\n",
       "      <td>0</td>\n",
       "      <td>1</td>\n",
       "      <td>9</td>\n",
       "      <td>27</td>\n",
       "      <td>1</td>\n",
       "    </tr>\n",
       "    <tr>\n",
       "      <th>2</th>\n",
       "      <td>3</td>\n",
       "      <td>False</td>\n",
       "      <td>6.639</td>\n",
       "      <td>8.910</td>\n",
       "      <td>0</td>\n",
       "      <td>1</td>\n",
       "      <td>3</td>\n",
       "      <td>14</td>\n",
       "      <td>1</td>\n",
       "    </tr>\n",
       "    <tr>\n",
       "      <th>3</th>\n",
       "      <td>8</td>\n",
       "      <td>False</td>\n",
       "      <td>162.628</td>\n",
       "      <td>14.802</td>\n",
       "      <td>0</td>\n",
       "      <td>1</td>\n",
       "      <td>17</td>\n",
       "      <td>92</td>\n",
       "      <td>2</td>\n",
       "    </tr>\n",
       "    <tr>\n",
       "      <th>4</th>\n",
       "      <td>9</td>\n",
       "      <td>False</td>\n",
       "      <td>80.923</td>\n",
       "      <td>7.540</td>\n",
       "      <td>0</td>\n",
       "      <td>1</td>\n",
       "      <td>16</td>\n",
       "      <td>51</td>\n",
       "      <td>2</td>\n",
       "    </tr>\n",
       "    <tr>\n",
       "      <th>5</th>\n",
       "      <td>14</td>\n",
       "      <td>False</td>\n",
       "      <td>123.478</td>\n",
       "      <td>9.855</td>\n",
       "      <td>0</td>\n",
       "      <td>1</td>\n",
       "      <td>10</td>\n",
       "      <td>51</td>\n",
       "      <td>2</td>\n",
       "    </tr>\n",
       "  </tbody>\n",
       "</table>\n",
       "</div>"
      ],
      "text/plain": [
       "   NOC   Male      GDP  Population  Home_Field_Adv  Summer  Sport  Event  \\\n",
       "1    2  False   42.346      18.666               0       1      9     27   \n",
       "2    3  False    6.639       8.910               0       1      3     14   \n",
       "3    8  False  162.628      14.802               0       1     17     92   \n",
       "4    9  False   80.923       7.540               0       1     16     51   \n",
       "5   14  False  123.478       9.855               0       1     10     51   \n",
       "\n",
       "   Medal  \n",
       "1      1  \n",
       "2      1  \n",
       "3      2  \n",
       "4      2  \n",
       "5      2  "
      ]
     },
     "execution_count": 12,
     "metadata": {},
     "output_type": "execute_result"
    }
   ],
   "source": [
    "# Enode labels with Scikit-learn\n",
    "from sklearn.preprocessing import LabelEncoder\n",
    "le = LabelEncoder()\n",
    "df2 = athletes_df.copy()\n",
    "df2['NOC'] = le.fit_transform(df2['NOC'])\n",
    "df2.head()"
   ]
  },
  {
   "cell_type": "code",
   "execution_count": 13,
   "id": "b93898ad",
   "metadata": {},
   "outputs": [
    {
     "name": "stdout",
     "output_type": "stream",
     "text": [
      "(1535, 8) (1535,) (512, 8) (512,)\n"
     ]
    }
   ],
   "source": [
    "# Split our preprocessed data into our features and target arrays\n",
    "y = df2[\"Medal\"].values\n",
    "X = df2.drop([\"Medal\"],1).values\n",
    "\n",
    "# Split the preprocessed data into a training and testing dataset\n",
    "X_train, X_test, y_train, y_test = train_test_split(X, y, random_state=1, stratify=y)\n",
    "print(X_train.shape,y_train.shape,X_test.shape,y_test.shape)"
   ]
  },
  {
   "cell_type": "code",
   "execution_count": 14,
   "id": "a2b95e2c",
   "metadata": {},
   "outputs": [],
   "source": [
    "# Create a StandardScaler instances\n",
    "scaler = StandardScaler()\n",
    "\n",
    "# Fit the StandardScaler\n",
    "X_scaler = scaler.fit(X_train)\n",
    "\n",
    "# Scale the data\n",
    "X_train_scaled = X_scaler.transform(X_train)\n",
    "X_test_scaled = X_scaler.transform(X_test)"
   ]
  },
  {
   "cell_type": "code",
   "execution_count": 15,
   "id": "7c01b2f9",
   "metadata": {},
   "outputs": [
    {
     "name": "stdout",
     "output_type": "stream",
     "text": [
      " Random forest predictive accuracy: 0.906\n"
     ]
    }
   ],
   "source": [
    "# define prediction model\n",
    "# translate rows to dicts\n",
    "def row_to_dict(X, y=None):\n",
    "    return X.apply(dict, axis=1)\n",
    "\n",
    "ft = FunctionTransformer(row_to_dict, validate=False)\n",
    "dv = DictVectorizer()\n",
    "# Create a random forest classifier.\n",
    "rf_model = RandomForestClassifier(n_estimators=128, random_state=78)\n",
    "\n",
    "# Fitting the model\n",
    "rf_model = rf_model.fit(X_train_scaled, y_train)\n",
    "\n",
    "# Evaluate the model\n",
    "y_pred = rf_model.predict(X_test_scaled)\n",
    "print(f\" Random forest predictive accuracy: {accuracy_score(y_test,y_pred):.3f}\")"
   ]
  },
  {
   "cell_type": "code",
   "execution_count": 16,
   "id": "ca4b3758",
   "metadata": {},
   "outputs": [
    {
     "name": "stdout",
     "output_type": "stream",
     "text": [
      "Epoch 1/50\n",
      "48/48 [==============================] - 1s 2ms/step - loss: -0.1027 - accuracy: 0.5961\n",
      "Epoch 2/50\n",
      "48/48 [==============================] - 0s 2ms/step - loss: -2.0807 - accuracy: 0.5980\n",
      "Epoch 3/50\n",
      "48/48 [==============================] - 0s 2ms/step - loss: -6.5141 - accuracy: 0.5980\n",
      "Epoch 4/50\n",
      "48/48 [==============================] - 0s 2ms/step - loss: -17.4761 - accuracy: 0.5980\n",
      "Epoch 5/50\n",
      "48/48 [==============================] - 0s 2ms/step - loss: -40.2324 - accuracy: 0.5980\n",
      "Epoch 6/50\n",
      "48/48 [==============================] - 0s 2ms/step - loss: -80.4004 - accuracy: 0.5980\n",
      "Epoch 7/50\n",
      "48/48 [==============================] - 0s 2ms/step - loss: -142.4209 - accuracy: 0.5980\n",
      "Epoch 8/50\n",
      "48/48 [==============================] - 0s 2ms/step - loss: -231.3968 - accuracy: 0.5980\n",
      "Epoch 9/50\n",
      "48/48 [==============================] - 0s 2ms/step - loss: -349.7139 - accuracy: 0.5980\n",
      "Epoch 10/50\n",
      "48/48 [==============================] - 0s 2ms/step - loss: -505.0657 - accuracy: 0.5980\n",
      "Epoch 11/50\n",
      "48/48 [==============================] - 0s 2ms/step - loss: -695.9937 - accuracy: 0.5980\n",
      "Epoch 12/50\n",
      "48/48 [==============================] - 0s 2ms/step - loss: -933.2784 - accuracy: 0.5980\n",
      "Epoch 13/50\n",
      "48/48 [==============================] - 0s 2ms/step - loss: -1214.9313 - accuracy: 0.5980\n",
      "Epoch 14/50\n",
      "48/48 [==============================] - 0s 2ms/step - loss: -1550.4207 - accuracy: 0.5980\n",
      "Epoch 15/50\n",
      "48/48 [==============================] - 0s 2ms/step - loss: -1934.5638 - accuracy: 0.5980\n",
      "Epoch 16/50\n",
      "48/48 [==============================] - 0s 2ms/step - loss: -2375.5684 - accuracy: 0.5980\n",
      "Epoch 17/50\n",
      "48/48 [==============================] - 0s 2ms/step - loss: -2878.4763 - accuracy: 0.5980\n",
      "Epoch 18/50\n",
      "48/48 [==============================] - 0s 2ms/step - loss: -3433.6484 - accuracy: 0.5980\n",
      "Epoch 19/50\n",
      "48/48 [==============================] - 0s 2ms/step - loss: -4050.4124 - accuracy: 0.5980\n",
      "Epoch 20/50\n",
      "48/48 [==============================] - 0s 2ms/step - loss: -4741.2939 - accuracy: 0.5980\n",
      "Epoch 21/50\n",
      "48/48 [==============================] - 0s 2ms/step - loss: -5497.9688 - accuracy: 0.5980\n",
      "Epoch 22/50\n",
      "48/48 [==============================] - 0s 2ms/step - loss: -6323.8989 - accuracy: 0.5980\n",
      "Epoch 23/50\n",
      "48/48 [==============================] - 0s 2ms/step - loss: -7209.1245 - accuracy: 0.5980\n",
      "Epoch 24/50\n",
      "48/48 [==============================] - 0s 2ms/step - loss: -8179.1870 - accuracy: 0.5980\n",
      "Epoch 25/50\n",
      "48/48 [==============================] - 0s 2ms/step - loss: -9220.7070 - accuracy: 0.5980\n",
      "Epoch 26/50\n",
      "48/48 [==============================] - 0s 2ms/step - loss: -10333.9170 - accuracy: 0.5980\n",
      "Epoch 27/50\n",
      "48/48 [==============================] - 0s 2ms/step - loss: -11546.3154 - accuracy: 0.5980\n",
      "Epoch 28/50\n",
      "48/48 [==============================] - 0s 2ms/step - loss: -12812.9912 - accuracy: 0.5980\n",
      "Epoch 29/50\n",
      "48/48 [==============================] - 0s 2ms/step - loss: -14174.5254 - accuracy: 0.5980\n",
      "Epoch 30/50\n",
      "48/48 [==============================] - 0s 2ms/step - loss: -15605.5938 - accuracy: 0.5980\n",
      "Epoch 31/50\n",
      "48/48 [==============================] - 0s 2ms/step - loss: -17130.5000 - accuracy: 0.5980\n",
      "Epoch 32/50\n",
      "48/48 [==============================] - 0s 2ms/step - loss: -18743.7480 - accuracy: 0.5980\n",
      "Epoch 33/50\n",
      "48/48 [==============================] - 0s 2ms/step - loss: -20428.0000 - accuracy: 0.5980\n",
      "Epoch 34/50\n",
      "48/48 [==============================] - 0s 2ms/step - loss: -22217.3789 - accuracy: 0.5980\n",
      "Epoch 35/50\n",
      "48/48 [==============================] - 0s 2ms/step - loss: -24075.5996 - accuracy: 0.5980\n",
      "Epoch 36/50\n",
      "48/48 [==============================] - 0s 2ms/step - loss: -26037.9473 - accuracy: 0.5980\n",
      "Epoch 37/50\n",
      "48/48 [==============================] - 0s 2ms/step - loss: -28083.9980 - accuracy: 0.5980\n",
      "Epoch 38/50\n",
      "48/48 [==============================] - 0s 2ms/step - loss: -30213.0625 - accuracy: 0.5980\n",
      "Epoch 39/50\n",
      "48/48 [==============================] - 0s 2ms/step - loss: -32442.4570 - accuracy: 0.5980\n",
      "Epoch 40/50\n",
      "48/48 [==============================] - 0s 2ms/step - loss: -34741.0078 - accuracy: 0.5980\n",
      "Epoch 41/50\n",
      "48/48 [==============================] - 0s 2ms/step - loss: -37155.1719 - accuracy: 0.5980\n",
      "Epoch 42/50\n",
      "48/48 [==============================] - 0s 2ms/step - loss: -39667.8242 - accuracy: 0.5980\n",
      "Epoch 43/50\n",
      "48/48 [==============================] - 0s 2ms/step - loss: -42234.3281 - accuracy: 0.5980\n",
      "Epoch 44/50\n",
      "48/48 [==============================] - 0s 2ms/step - loss: -44927.2188 - accuracy: 0.5980\n",
      "Epoch 45/50\n",
      "48/48 [==============================] - 0s 2ms/step - loss: -47726.7891 - accuracy: 0.5980\n",
      "Epoch 46/50\n",
      "48/48 [==============================] - 0s 2ms/step - loss: -50600.9062 - accuracy: 0.5980\n",
      "Epoch 47/50\n",
      "48/48 [==============================] - 0s 2ms/step - loss: -53609.4844 - accuracy: 0.5980\n",
      "Epoch 48/50\n",
      "48/48 [==============================] - 0s 2ms/step - loss: -56672.4844 - accuracy: 0.5980\n",
      "Epoch 49/50\n",
      "48/48 [==============================] - 0s 2ms/step - loss: -59869.8633 - accuracy: 0.5980\n",
      "Epoch 50/50\n",
      "48/48 [==============================] - 0s 2ms/step - loss: -63164.1055 - accuracy: 0.5980\n",
      "16/16 - 0s - loss: -7.0210e+04 - accuracy: 0.5977\n",
      "Loss: -70210.359375, Accuracy: 0.59765625\n"
     ]
    }
   ],
   "source": [
    "# Define the model - deep neural net\n",
    "number_input_features = len(X_train_scaled[0])\n",
    "hidden_nodes_layer1 =  50\n",
    "hidden_nodes_layer2 = 25\n",
    "\n",
    "nn = tf.keras.models.Sequential()\n",
    "\n",
    "# First hidden layer\n",
    "nn.add(\n",
    "    tf.keras.layers.Dense(units=hidden_nodes_layer1, input_dim=number_input_features, activation=\"relu\")\n",
    ")\n",
    "\n",
    "# Second hidden layer\n",
    "nn.add(tf.keras.layers.Dense(units=hidden_nodes_layer2, activation=\"relu\"))\n",
    "\n",
    "\n",
    "# Output layer\n",
    "nn.add(tf.keras.layers.Dense(units=1, activation=\"sigmoid\"))\n",
    "\n",
    "# Compile the Sequential model together and customize metrics\n",
    "nn.compile(loss=\"binary_crossentropy\", optimizer=\"adam\", metrics=[\"accuracy\"])\n",
    "\n",
    "# Train the model\n",
    "fit_model = nn.fit(X_train_scaled, y_train, epochs=50)\n",
    "\n",
    "# Evaluate the model using the test data\n",
    "model_loss, model_accuracy = nn.evaluate(X_test_scaled,y_test,verbose=2)\n",
    "print(f\"Loss: {model_loss}, Accuracy: {model_accuracy}\")"
   ]
  },
  {
   "cell_type": "code",
   "execution_count": 17,
   "id": "33331bb7",
   "metadata": {},
   "outputs": [
    {
     "name": "stdout",
     "output_type": "stream",
     "text": [
      "Model: \"sequential\"\n",
      "_________________________________________________________________\n",
      "Layer (type)                 Output Shape              Param #   \n",
      "=================================================================\n",
      "dense (Dense)                (None, 50)                450       \n",
      "_________________________________________________________________\n",
      "dense_1 (Dense)              (None, 25)                1275      \n",
      "_________________________________________________________________\n",
      "dense_2 (Dense)              (None, 1)                 26        \n",
      "=================================================================\n",
      "Total params: 1,751\n",
      "Trainable params: 1,751\n",
      "Non-trainable params: 0\n",
      "_________________________________________________________________\n"
     ]
    }
   ],
   "source": [
    "# summarize the model\n",
    "nn.summary()"
   ]
  },
  {
   "cell_type": "code",
   "execution_count": 18,
   "id": "fd487c61",
   "metadata": {},
   "outputs": [],
   "source": [
    "# Export our model to HDF5 file\n",
    "nn.save(\"PredictiveOlympics.h5\")"
   ]
  },
  {
   "cell_type": "code",
   "execution_count": 19,
   "id": "fa9c6818",
   "metadata": {},
   "outputs": [
    {
     "name": "stdout",
     "output_type": "stream",
     "text": [
      "16/16 - 0s - loss: -7.0210e+04 - accuracy: 0.5977\n",
      "Loss: -70210.359375, Accuracy: 0.59765625\n"
     ]
    }
   ],
   "source": [
    "# Evaluate the model using the test data\n",
    "model_loss, model_accuracy = nn.evaluate(X_test_scaled,y_test,verbose=2)\n",
    "print(f\"Loss: {model_loss}, Accuracy: {model_accuracy}\")"
   ]
  },
  {
   "cell_type": "code",
   "execution_count": 20,
   "id": "a547884c",
   "metadata": {},
   "outputs": [
    {
     "data": {
      "text/plain": [
       "array([[266,  40],\n",
       "       [ 37, 169]], dtype=int64)"
      ]
     },
     "execution_count": 20,
     "metadata": {},
     "output_type": "execute_result"
    }
   ],
   "source": [
    "from sklearn.tree import DecisionTreeClassifier\n",
    "clf = DecisionTreeClassifier().fit(X_train_scaled, y_train)\n",
    "y_pred = clf.predict(X_test_scaled)\n",
    "from sklearn.metrics import confusion_matrix, classification_report\n",
    "cm = confusion_matrix(y_test, y_pred)\n",
    "cm"
   ]
  },
  {
   "cell_type": "code",
   "execution_count": 21,
   "id": "0dc80735",
   "metadata": {},
   "outputs": [
    {
     "data": {
      "text/html": [
       "<div>\n",
       "<style scoped>\n",
       "    .dataframe tbody tr th:only-of-type {\n",
       "        vertical-align: middle;\n",
       "    }\n",
       "\n",
       "    .dataframe tbody tr th {\n",
       "        vertical-align: top;\n",
       "    }\n",
       "\n",
       "    .dataframe thead th {\n",
       "        text-align: right;\n",
       "    }\n",
       "</style>\n",
       "<table border=\"1\" class=\"dataframe\">\n",
       "  <thead>\n",
       "    <tr style=\"text-align: right;\">\n",
       "      <th></th>\n",
       "      <th>Predicted 0</th>\n",
       "      <th>Predicted 1</th>\n",
       "    </tr>\n",
       "  </thead>\n",
       "  <tbody>\n",
       "    <tr>\n",
       "      <th>Actual 0</th>\n",
       "      <td>266</td>\n",
       "      <td>40</td>\n",
       "    </tr>\n",
       "    <tr>\n",
       "      <th>Actual 1</th>\n",
       "      <td>37</td>\n",
       "      <td>169</td>\n",
       "    </tr>\n",
       "  </tbody>\n",
       "</table>\n",
       "</div>"
      ],
      "text/plain": [
       "          Predicted 0  Predicted 1\n",
       "Actual 0          266           40\n",
       "Actual 1           37          169"
      ]
     },
     "execution_count": 21,
     "metadata": {},
     "output_type": "execute_result"
    }
   ],
   "source": [
    "# Display the confusion matrix\n",
    "\n",
    "confusion_matrix(y_test, y_pred)\n",
    "# Create a DataFrame from the confusion matrix.\n",
    "cm_df = pd.DataFrame(\n",
    "    cm, index=[\"Actual 0\", \"Actual 1\"], columns=[\"Predicted 0\", \"Predicted 1\"])\n",
    "\n",
    "cm_df"
   ]
  },
  {
   "cell_type": "code",
   "execution_count": 22,
   "id": "6cbbb7fe",
   "metadata": {},
   "outputs": [
    {
     "name": "stdout",
     "output_type": "stream",
     "text": [
      "              precision    recall  f1-score   support\n",
      "\n",
      "           1       0.88      0.87      0.87       306\n",
      "           2       0.81      0.82      0.81       206\n",
      "\n",
      "    accuracy                           0.85       512\n",
      "   macro avg       0.84      0.84      0.84       512\n",
      "weighted avg       0.85      0.85      0.85       512\n",
      "\n"
     ]
    }
   ],
   "source": [
    "print(classification_report(y_test, y_pred))"
   ]
  },
  {
   "cell_type": "code",
   "execution_count": 23,
   "id": "e840bc0b",
   "metadata": {},
   "outputs": [
    {
     "name": "stdout",
     "output_type": "stream",
     "text": [
      "                   pre       rec       spe        f1       geo       iba       sup\n",
      "\n",
      "          1       0.88      0.87      0.82      0.87      0.84      0.72       306\n",
      "          2       0.81      0.82      0.87      0.81      0.84      0.71       206\n",
      "\n",
      "avg / total       0.85      0.85      0.84      0.85      0.84      0.71       512\n",
      "\n"
     ]
    }
   ],
   "source": [
    "# Print the imbalanced classification report\n",
    "from imblearn.metrics import classification_report_imbalanced\n",
    "print(classification_report_imbalanced(y_test, y_pred))\n",
    "#While precision (\"pre\" column) and recall (\"rec\" column) are high for the majority class, \n",
    "#  precision is low for the minority class. (below .45)"
   ]
  },
  {
   "cell_type": "code",
   "execution_count": 24,
   "id": "8c0e0929",
   "metadata": {},
   "outputs": [
    {
     "data": {
      "text/plain": [
       "0.849609375"
      ]
     },
     "execution_count": 24,
     "metadata": {},
     "output_type": "execute_result"
    }
   ],
   "source": [
    "accuracy_score(y_test, y_pred)"
   ]
  },
  {
   "cell_type": "code",
   "execution_count": 25,
   "id": "00b6253b",
   "metadata": {
    "scrolled": true
   },
   "outputs": [
    {
     "data": {
      "text/plain": [
       "array([0.08162145, 0.        , 0.16592585, 0.11621944, 0.00197992,\n",
       "       0.0085951 , 0.27403725, 0.35162099])"
      ]
     },
     "execution_count": 25,
     "metadata": {},
     "output_type": "execute_result"
    }
   ],
   "source": [
    "# Calculate feature importance in the Random Forest model.\n",
    "importances = rf_model.feature_importances_\n",
    "importances"
   ]
  },
  {
   "cell_type": "code",
   "execution_count": 26,
   "id": "3680deb2",
   "metadata": {},
   "outputs": [
    {
     "name": "stdout",
     "output_type": "stream",
     "text": [
      "Feature: 0, Score: 0.08162\n",
      "Feature: 1, Score: 0.00000\n",
      "Feature: 2, Score: 0.16593\n",
      "Feature: 3, Score: 0.11622\n",
      "Feature: 4, Score: 0.00198\n",
      "Feature: 5, Score: 0.00860\n",
      "Feature: 6, Score: 0.27404\n",
      "Feature: 7, Score: 0.35162\n"
     ]
    },
    {
     "data": {
      "image/png": "[encoded data removed]",
      "text/plain": [
       "<Figure size 432x288 with 1 Axes>"
      ]
     },
     "metadata": {
      "needs_background": "light"
     },
     "output_type": "display_data"
    }
   ],
   "source": [
    "from matplotlib import pyplot\n",
    "# get importance\n",
    "importance = rf_model.feature_importances_\n",
    "# summarize feature importance\n",
    "for i,v in enumerate(importance):\n",
    "    print('Feature: %0d, Score: %.5f' % (i,v))\n",
    "# plot feature importance\n",
    "pyplot.bar([x for x in range(len(importance))], importance)\n",
    "#pyplot.xticks(len(importance), df2.columns)\n",
    "pyplot.show()"
   ]
  },
  {
   "cell_type": "code",
   "execution_count": 27,
   "id": "1462d256",
   "metadata": {},
   "outputs": [
    {
     "data": {
      "text/plain": [
       "[(0.0, 'Male'),\n",
       " (0.001979920143549656, 'Home_Field_Adv'),\n",
       " (0.008595097590866064, 'Summer'),\n",
       " (0.0816214533042449, 'NOC'),\n",
       " (0.11621943572667513, 'Population'),\n",
       " (0.1659258453626634, 'GDP'),\n",
       " (0.27403725298570764, 'Sport'),\n",
       " (0.35162099488629334, 'Event')]"
      ]
     },
     "execution_count": 27,
     "metadata": {},
     "output_type": "execute_result"
    }
   ],
   "source": [
    "# Sort features by their importance\n",
    "sorted(zip(rf_model.feature_importances_, df2.columns))#, reverse=True)"
   ]
  },
  {
   "cell_type": "code",
   "execution_count": 28,
   "id": "35f387be",
   "metadata": {},
   "outputs": [
    {
     "data": {
      "image/png": "[encoded data removed]",
      "text/plain": [
       "<Figure size 504x252 with 1 Axes>"
      ]
     },
     "metadata": {
      "needs_background": "light"
     },
     "output_type": "display_data"
    }
   ],
   "source": [
    "#Sort them and present them as a list\n",
    "sorted_labels = sorted(zip(df2.columns, rf_model.feature_importances_))#, reverse=True)\n",
    "plt.rcParams[\"figure.figsize\"] = [7.00, 3.50]\n",
    "plt.rcParams[\"figure.autolayout\"] = True\n",
    "plt.bar(*zip(* sorted(sorted_labels,key=lambda x: x[1] )),align='edge',width=0.5)\n",
    "plt.xticks(rotation = 45) # Rotates X-Axis Ticks by 45-degrees\n",
    "plt.show()    "
   ]
  },
  {
   "cell_type": "code",
   "execution_count": 29,
   "id": "6a032ad0",
   "metadata": {},
   "outputs": [],
   "source": [
    "from keras.models import load_model\n",
    "\n",
    "# returns a compiled model\n",
    "# identical to the previous one\n",
    "model = load_model('PredictiveOlympics.h5')"
   ]
  }
 ],
 "metadata": {
  "kernelspec": {
   "display_name": "mlenv",
   "language": "python",
   "name": "mlenv"
  },
  "language_info": {
   "codemirror_mode": {
    "name": "ipython",
    "version": 3
   },
   "file_extension": ".py",
   "mimetype": "text/x-python",
   "name": "python",
   "nbconvert_exporter": "python",
   "pygments_lexer": "ipython3",
   "version": "3.7.10"
  }
 },
 "nbformat": 4,
 "nbformat_minor": 5
}
