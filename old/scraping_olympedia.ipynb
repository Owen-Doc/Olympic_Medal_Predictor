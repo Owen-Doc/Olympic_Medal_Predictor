{
 "cells": [
  {
   "cell_type": "code",
   "execution_count": 1,
   "id": "71fe8414",
   "metadata": {},
   "outputs": [],
   "source": [
    "# Dependencies\n",
    "\n",
    "# Import Splinter\n",
    "from splinter import Browser\n",
    "# Import BeautifulSoup\n",
    "from bs4 import BeautifulSoup as soup\n",
    "\n",
    "import requests\n",
    "import os\n",
    "import pandas as pd\n",
    "import re\n",
    "\n",
    "from webdriver_manager.chrome import ChromeDriverManager"
   ]
  },
  {
   "cell_type": "code",
   "execution_count": 4,
   "id": "bb2befd1",
   "metadata": {},
   "outputs": [],
   "source": [
    "executable_path = {'executable_path': 'C:/bin/chromedriver.exe'}\n",
    "browser = Browser('chrome', **executable_path, headless=False)"
   ]
  },
  {
   "cell_type": "code",
   "execution_count": 5,
   "id": "1fe2e0e7",
   "metadata": {},
   "outputs": [],
   "source": [
    "# Function to remove tags\n",
    "def remove_tags(html):\n",
    "    \n",
    "    # parse html content\n",
    "    soup = BeautifulSoup(html, \"html.parser\")\n",
    "    \n",
    "    for data in soup(['style', 'script']):\n",
    "        # Remove tags\n",
    "        data.decompose()\n",
    "    \n",
    "    # Return data by retrieving the tag content\n",
    "    return ' '.join(soup.stripped_strings)"
   ]
  },
  {
   "cell_type": "code",
   "execution_count": 6,
   "id": "1b67b132",
   "metadata": {},
   "outputs": [],
   "source": [
    "# base url\n",
    "url = 'https://www.olympedia.org/athletes/93860'\n",
    "\n",
    "## site statistics \n",
    "site_statistics = 'https://www.olympedia.org/statistics/olympedia'"
   ]
  },
  {
   "cell_type": "code",
   "execution_count": 7,
   "id": "93610e7a",
   "metadata": {},
   "outputs": [
    {
     "data": {
      "text/plain": [
       "True"
      ]
     },
     "execution_count": 7,
     "metadata": {},
     "output_type": "execute_result"
    }
   ],
   "source": [
    "browser.visit(url)\n",
    "# Optional delay for loding the page\n",
    "browser.is_element_present_by_css('table.biodata', wait_time=1)"
   ]
  },
  {
   "cell_type": "code",
   "execution_count": 8,
   "id": "8271269a",
   "metadata": {},
   "outputs": [],
   "source": [
    "html = browser.html\n",
    "news_soup = soup(html, \"html.parser\")"
   ]
  },
  {
   "cell_type": "code",
   "execution_count": 9,
   "id": "6a83e9bd",
   "metadata": {},
   "outputs": [
    {
     "data": {
      "text/plain": [
       "[<th>Type</th>,\n",
       " <th>Sex</th>,\n",
       " <th>Full name</th>,\n",
       " <th>Used name</th>,\n",
       " <th>Nick/petnames</th>,\n",
       " <th>Born</th>,\n",
       " <th>Measurements</th>,\n",
       " <th>Affiliations</th>,\n",
       " <th>NOC</th>]"
      ]
     },
     "execution_count": 9,
     "metadata": {},
     "output_type": "execute_result"
    }
   ],
   "source": [
    "biodata = news_soup.select_one('table.biodata')\n",
    "bio_column = biodata.findChildren(['th'])\n",
    "bio_column"
   ]
  },
  {
   "cell_type": "code",
   "execution_count": 10,
   "id": "b4f557d5",
   "metadata": {},
   "outputs": [
    {
     "data": {
      "text/plain": [
       "['Type',\n",
       " 'Sex',\n",
       " 'Full name',\n",
       " 'Used name',\n",
       " 'Nick/petnames',\n",
       " 'Born',\n",
       " 'Measurements',\n",
       " 'Affiliations',\n",
       " 'NOC']"
      ]
     },
     "execution_count": 10,
     "metadata": {},
     "output_type": "execute_result"
    }
   ],
   "source": [
    "bio_column = [str(i).replace(r\"<th>\", '') for i in bio_column]\n",
    "bio_column = [str(i).replace(r\"</th>\", '') for i in bio_column]\n",
    "bio_column"
   ]
  },
  {
   "cell_type": "code",
   "execution_count": 11,
   "id": "4c528f2a",
   "metadata": {},
   "outputs": [
    {
     "data": {
      "text/html": [
       "<div>\n",
       "<style scoped>\n",
       "    .dataframe tbody tr th:only-of-type {\n",
       "        vertical-align: middle;\n",
       "    }\n",
       "\n",
       "    .dataframe tbody tr th {\n",
       "        vertical-align: top;\n",
       "    }\n",
       "\n",
       "    .dataframe thead th {\n",
       "        text-align: right;\n",
       "    }\n",
       "</style>\n",
       "<table border=\"1\" class=\"dataframe\">\n",
       "  <thead>\n",
       "    <tr style=\"text-align: right;\">\n",
       "      <th></th>\n",
       "      <th>0</th>\n",
       "    </tr>\n",
       "  </thead>\n",
       "  <tbody>\n",
       "    <tr>\n",
       "      <th>0</th>\n",
       "      <td>Type</td>\n",
       "    </tr>\n",
       "    <tr>\n",
       "      <th>1</th>\n",
       "      <td>Sex</td>\n",
       "    </tr>\n",
       "    <tr>\n",
       "      <th>2</th>\n",
       "      <td>Full name</td>\n",
       "    </tr>\n",
       "    <tr>\n",
       "      <th>3</th>\n",
       "      <td>Used name</td>\n",
       "    </tr>\n",
       "    <tr>\n",
       "      <th>4</th>\n",
       "      <td>Nick/petnames</td>\n",
       "    </tr>\n",
       "    <tr>\n",
       "      <th>5</th>\n",
       "      <td>Born</td>\n",
       "    </tr>\n",
       "    <tr>\n",
       "      <th>6</th>\n",
       "      <td>Measurements</td>\n",
       "    </tr>\n",
       "    <tr>\n",
       "      <th>7</th>\n",
       "      <td>Affiliations</td>\n",
       "    </tr>\n",
       "    <tr>\n",
       "      <th>8</th>\n",
       "      <td>NOC</td>\n",
       "    </tr>\n",
       "  </tbody>\n",
       "</table>\n",
       "</div>"
      ],
      "text/plain": [
       "               0\n",
       "0           Type\n",
       "1            Sex\n",
       "2      Full name\n",
       "3      Used name\n",
       "4  Nick/petnames\n",
       "5           Born\n",
       "6   Measurements\n",
       "7   Affiliations\n",
       "8            NOC"
      ]
     },
     "execution_count": 11,
     "metadata": {},
     "output_type": "execute_result"
    }
   ],
   "source": [
    "biodate = news_soup.select_one('table.biodata')\n",
    "biodate_columns = pd.DataFrame(biodate.findChildren(['th']))\n",
    "biodate_columns"
   ]
  },
  {
   "cell_type": "code",
   "execution_count": 13,
   "id": "997ee8d7",
   "metadata": {},
   "outputs": [],
   "source": [
    "#biodate.findChildren(['td']).replace('\\<\\/*td\\>','',regex=True)"
   ]
  },
  {
   "cell_type": "code",
   "execution_count": 15,
   "id": "9938e9d6",
   "metadata": {},
   "outputs": [
    {
     "data": {
      "text/plain": [
       "['Competed in Olympic Games',\n",
       " 'Male',\n",
       " 'Michael FredPhelps, II',\n",
       " 'MichaelPhelps',\n",
       " 'The Baltimore Bullet',\n",
       " '30 June 1985 in <a href=\"/place_names/4423\">Baltimore, Maryland (USA)</a>',\n",
       " '193 cm / 91 kg',\n",
       " '<a href=\"/affiliations/6636\">NBAC, Baltimore (USA)</a> / <a href=\"/affiliations/3411\">Michigan Wolverines, Ann Arbor (USA)</a>',\n",
       " '<img src=\"/images/flags/USA.png\" style=\"padding-right: 2px; vertical-align: middle\"/> <a href=\"/countries/USA\">United States</a>']"
      ]
     },
     "execution_count": 15,
     "metadata": {},
     "output_type": "execute_result"
    }
   ],
   "source": [
    "bio_data = biodata.findChildren(['td'])\n",
    "bio_data = [str(i).replace(r'<td>', '') for i in bio_data]\n",
    "bio_data = [str(i).replace(r'</td>', '') for i in bio_data]\n",
    "bio_data = [str(i).replace(r'•', '') for i in bio_data]\n",
    "\n",
    "bio_data"
   ]
  },
  {
   "cell_type": "code",
   "execution_count": 16,
   "id": "11315341",
   "metadata": {},
   "outputs": [
    {
     "data": {
      "text/plain": [
       "['Competed in Olympic Games',\n",
       " 'Male',\n",
       " 'Michael FredPhelps, II',\n",
       " 'MichaelPhelps',\n",
       " 'The Baltimore Bullet',\n",
       " '30 June 1985 in <a href=\"/place_names/4423\">Baltimore, Maryland (USA)</a>',\n",
       " '193 cm / 91 kg',\n",
       " '6636\">NBAC, Baltimore (USA)</a> / 3411\">Michigan Wolverines, Ann Arbor (USA)</a>',\n",
       " 'USA.png\" style=\"padding-right: 2px; vertical-align: middle\"/> <a href=\"/countries/USA\">United States</a>']"
      ]
     },
     "execution_count": 16,
     "metadata": {},
     "output_type": "execute_result"
    }
   ],
   "source": [
    "bio_data = [str(i).replace(r'<a href=\"/affiliations/','') for i in bio_data]\n",
    "bio_data = [str(i).replace(r'<img src=\"/images/flags/','') for i in bio_data]\n",
    "bio_data = [str(i).replace(r'.png.+','') for i in bio_data]\n",
    "bio_data"
   ]
  },
  {
   "cell_type": "code",
   "execution_count": 24,
   "id": "a63674b8",
   "metadata": {},
   "outputs": [],
   "source": []
  },
  {
   "cell_type": "code",
   "execution_count": 18,
   "id": "22228a62",
   "metadata": {},
   "outputs": [
    {
     "data": {
      "text/html": [
       "<div>\n",
       "<style scoped>\n",
       "    .dataframe tbody tr th:only-of-type {\n",
       "        vertical-align: middle;\n",
       "    }\n",
       "\n",
       "    .dataframe tbody tr th {\n",
       "        vertical-align: top;\n",
       "    }\n",
       "\n",
       "    .dataframe thead th {\n",
       "        text-align: right;\n",
       "    }\n",
       "</style>\n",
       "<table border=\"1\" class=\"dataframe\">\n",
       "  <thead>\n",
       "    <tr style=\"text-align: right;\">\n",
       "      <th></th>\n",
       "      <th>0</th>\n",
       "    </tr>\n",
       "  </thead>\n",
       "  <tbody>\n",
       "    <tr>\n",
       "      <th>0</th>\n",
       "      <td>[Competed in Olympic Games]</td>\n",
       "    </tr>\n",
       "    <tr>\n",
       "      <th>1</th>\n",
       "      <td>[Male]</td>\n",
       "    </tr>\n",
       "    <tr>\n",
       "      <th>2</th>\n",
       "      <td>[Michael Fred•Phelps, II]</td>\n",
       "    </tr>\n",
       "    <tr>\n",
       "      <th>3</th>\n",
       "      <td>[Michael•Phelps]</td>\n",
       "    </tr>\n",
       "    <tr>\n",
       "      <th>4</th>\n",
       "      <td>[The Baltimore Bullet]</td>\n",
       "    </tr>\n",
       "    <tr>\n",
       "      <th>5</th>\n",
       "      <td>[30 June 1985 in , [Baltimore, Maryland (USA)]]</td>\n",
       "    </tr>\n",
       "    <tr>\n",
       "      <th>6</th>\n",
       "      <td>[193 cm / 91 kg]</td>\n",
       "    </tr>\n",
       "    <tr>\n",
       "      <th>7</th>\n",
       "      <td>[[NBAC, Baltimore (USA)],  / , [Michigan Wolve...</td>\n",
       "    </tr>\n",
       "    <tr>\n",
       "      <th>8</th>\n",
       "      <td>[[],  , [United States]]</td>\n",
       "    </tr>\n",
       "  </tbody>\n",
       "</table>\n",
       "</div>"
      ],
      "text/plain": [
       "                                                   0\n",
       "0                        [Competed in Olympic Games]\n",
       "1                                             [Male]\n",
       "2                          [Michael Fred•Phelps, II]\n",
       "3                                   [Michael•Phelps]\n",
       "4                             [The Baltimore Bullet]\n",
       "5    [30 June 1985 in , [Baltimore, Maryland (USA)]]\n",
       "6                                   [193 cm / 91 kg]\n",
       "7  [[NBAC, Baltimore (USA)],  / , [Michigan Wolve...\n",
       "8                           [[],  , [United States]]"
      ]
     },
     "execution_count": 18,
     "metadata": {},
     "output_type": "execute_result"
    }
   ],
   "source": [
    "biodata_values = pd.DataFrame(biodata.findChildren(['td']))\n",
    "biodata_values"
   ]
  },
  {
   "cell_type": "code",
   "execution_count": 20,
   "id": "2bd8aef8",
   "metadata": {},
   "outputs": [
    {
     "data": {
      "text/html": [
       "<div>\n",
       "<style scoped>\n",
       "    .dataframe tbody tr th:only-of-type {\n",
       "        vertical-align: middle;\n",
       "    }\n",
       "\n",
       "    .dataframe tbody tr th {\n",
       "        vertical-align: top;\n",
       "    }\n",
       "\n",
       "    .dataframe thead th {\n",
       "        text-align: right;\n",
       "    }\n",
       "</style>\n",
       "<table border=\"1\" class=\"dataframe\">\n",
       "  <thead>\n",
       "    <tr style=\"text-align: right;\">\n",
       "      <th></th>\n",
       "      <th>Type</th>\n",
       "      <th>Sex</th>\n",
       "      <th>Full name</th>\n",
       "      <th>Used name</th>\n",
       "      <th>Nick/petnames</th>\n",
       "      <th>Born</th>\n",
       "      <th>Measurements</th>\n",
       "      <th>Affiliations</th>\n",
       "      <th>NOC</th>\n",
       "    </tr>\n",
       "  </thead>\n",
       "  <tbody>\n",
       "    <tr>\n",
       "      <th>0</th>\n",
       "      <td>Competed in Olympic Games</td>\n",
       "      <td>Male</td>\n",
       "      <td>Michael FredPhelps, II</td>\n",
       "      <td>MichaelPhelps</td>\n",
       "      <td>The Baltimore Bullet</td>\n",
       "      <td>30 June 1985 in &lt;a href=\"/place_names/4423\"&gt;Ba...</td>\n",
       "      <td>193 cm / 91 kg</td>\n",
       "      <td>6636\"&gt;NBAC, Baltimore (USA)&lt;/a&gt; / 3411\"&gt;Michig...</td>\n",
       "      <td>USA.png\" style=\"padding-right: 2px; vertical-a...</td>\n",
       "    </tr>\n",
       "  </tbody>\n",
       "</table>\n",
       "</div>"
      ],
      "text/plain": [
       "                        Type   Sex               Full name      Used name  \\\n",
       "0  Competed in Olympic Games  Male  Michael FredPhelps, II  MichaelPhelps   \n",
       "\n",
       "          Nick/petnames                                               Born  \\\n",
       "0  The Baltimore Bullet  30 June 1985 in <a href=\"/place_names/4423\">Ba...   \n",
       "\n",
       "     Measurements                                       Affiliations  \\\n",
       "0  193 cm / 91 kg  6636\">NBAC, Baltimore (USA)</a> / 3411\">Michig...   \n",
       "\n",
       "                                                 NOC  \n",
       "0  USA.png\" style=\"padding-right: 2px; vertical-a...  "
      ]
     },
     "execution_count": 20,
     "metadata": {},
     "output_type": "execute_result"
    }
   ],
   "source": [
    "df = pd.DataFrame(columns=bio_column)\n",
    "a_series = pd.Series(bio_data, index=df.columns)\n",
    "df = df.append(a_series, ignore_index=True)\n",
    "df"
   ]
  },
  {
   "cell_type": "code",
   "execution_count": null,
   "id": "b36b7b75",
   "metadata": {},
   "outputs": [],
   "source": [
    "def strip_html(data):\n",
    "    p = re.compile(r'<.*?>')\n",
    "    return p.sub('', data)"
   ]
  }
 ],
 "metadata": {
  "kernelspec": {
   "display_name": "PythonData",
   "language": "python",
   "name": "pythondata"
  },
  "language_info": {
   "codemirror_mode": {
    "name": "ipython",
    "version": 3
   },
   "file_extension": ".py",
   "mimetype": "text/x-python",
   "name": "python",
   "nbconvert_exporter": "python",
   "pygments_lexer": "ipython3",
   "version": "3.9.5"
  }
 },
 "nbformat": 4,
 "nbformat_minor": 5
}
